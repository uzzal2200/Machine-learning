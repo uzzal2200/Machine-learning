{
 "cells": [
  {
   "cell_type": "code",
   "execution_count": 2,
   "metadata": {},
   "outputs": [
    {
     "name": "stdout",
     "output_type": "stream",
     "text": [
      "0    10\n",
      "1    20\n",
      "2    30\n",
      "3    40\n",
      "4    50\n",
      "dtype: int64\n",
      "a    10\n",
      "b    20\n",
      "c    30\n",
      "d    40\n",
      "e    50\n",
      "dtype: int64\n",
      "10\n",
      "20\n",
      "0     20\n",
      "1     40\n",
      "2     60\n",
      "3     80\n",
      "4    100\n",
      "dtype: int64\n",
      "a    15\n",
      "b    25\n",
      "c    35\n",
      "d    45\n",
      "e    55\n",
      "dtype: int64\n"
     ]
    }
   ],
   "source": [
    "import pandas as pd\n",
    "data = [10,20,30,40,50]\n",
    "# Creating a Series from a list\n",
    "series = pd.Series(data)\n",
    "print(series)\n",
    "\n",
    "# Creating a Series with custom index labels\n",
    "index =  ['a', 'b', 'c', 'd', 'e']\n",
    "series_index = pd.Series(data,index = index)\n",
    "print(series_index)\n",
    "\n",
    "# Accessing elements in a Series\n",
    "\n",
    "print(series[0])   # Accessing the first element\n",
    "print(series_index['b'])   # Accessing the element with index label 'b'\n",
    "\n",
    "# Performing operations on a Series\n",
    "print(series*2)   # Multiplying each element by 2\n",
    "print(series_index + 5)   # Adding 5 to each element\n",
    "\n"
   ]
  },
  {
   "cell_type": "code",
   "execution_count": 3,
   "metadata": {},
   "outputs": [
    {
     "name": "stdout",
     "output_type": "stream",
     "text": [
      "30.0\n",
      "15.811388300841896\n",
      "RangeIndex(start=0, stop=5, step=1)\n",
      "[10 20 30 40 50]\n",
      "count     5.000000\n",
      "mean     30.000000\n",
      "std      15.811388\n",
      "min      10.000000\n",
      "25%      20.000000\n",
      "50%      30.000000\n",
      "75%      40.000000\n",
      "max      50.000000\n",
      "dtype: float64\n"
     ]
    }
   ],
   "source": [
    "# Statistical operations on a Series\n",
    "print(series.mean())  # Calculating the mean of the Series\n",
    "print(series.std())    # Calculating the standard deviation of the Series\n",
    "\n",
    "# Other useful methods and attributes\n",
    "\n",
    "print(series.index) # Accessing the index labels\n",
    "print(series.values) # Accessing the values as a NumPy array\n",
    "print(series.describe())  # Generating descriptive statistics of the series\n",
    "\n"
   ]
  },
  {
   "cell_type": "code",
   "execution_count": null,
   "metadata": {},
   "outputs": [],
   "source": []
  }
 ],
 "metadata": {
  "kernelspec": {
   "display_name": "Python 3",
   "language": "python",
   "name": "python3"
  },
  "language_info": {
   "codemirror_mode": {
    "name": "ipython",
    "version": 3
   },
   "file_extension": ".py",
   "mimetype": "text/x-python",
   "name": "python",
   "nbconvert_exporter": "python",
   "pygments_lexer": "ipython3",
   "version": "3.12.3"
  }
 },
 "nbformat": 4,
 "nbformat_minor": 2
}
