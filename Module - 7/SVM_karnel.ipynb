{
 "cells": [
  {
   "cell_type": "code",
   "execution_count": 2,
   "metadata": {},
   "outputs": [],
   "source": [
    "import numpy as np\n",
    "import matplotlib.pyplot as plt\n",
    "\n",
    "x = np.linspace(-0.5,5.0,100)\n",
    "y = np.sqrt(10**2 - x**2)\n",
    "y = np.hstack([y,-y]) # horizontal vector develop\n",
    "x = np.hstack([x,-x])  # horizontal vector develop"
   ]
  },
  {
   "cell_type": "code",
   "execution_count": 3,
   "metadata": {},
   "outputs": [
    {
     "data": {
      "text/plain": [
       "array([  9.98749218,   9.99011857,   9.99243541,   9.9944429 ,\n",
       "         9.99614123,   9.99753056,   9.99861101,   9.9993827 ,\n",
       "         9.99984568,  10.        ,   9.99984568,   9.9993827 ,\n",
       "         9.99861101,   9.99753056,   9.99614123,   9.9944429 ,\n",
       "         9.99243541,   9.99011857,   9.98749218,   9.98455598,\n",
       "         9.98130969,   9.97775303,   9.97388566,   9.9697072 ,\n",
       "         9.96521729,   9.96041548,   9.95530134,   9.94987437,\n",
       "         9.94413407,   9.9380799 ,   9.93171128,   9.9250276 ,\n",
       "         9.91802823,   9.9107125 ,   9.90307971,   9.89512912,\n",
       "         9.88685997,   9.87827145,   9.86936274,   9.86013297,\n",
       "         9.85058123,   9.84070659,   9.83050807,   9.81998466,\n",
       "         9.80913532,   9.79795897,   9.78645448,   9.7746207 ,\n",
       "         9.76245643,   9.74996043,   9.73713143,   9.7239681 ,\n",
       "         9.71046909,   9.69663299,   9.68245837,   9.66794372,\n",
       "         9.65308753,   9.6378882 ,   9.62234411,   9.60645359,\n",
       "         9.59021492,   9.57362632,   9.55668598,   9.53939201,\n",
       "         9.5217425 ,   9.50373546,   9.48536885,   9.46664058,\n",
       "         9.44754851,   9.42809042,   9.40826403,   9.38806703,\n",
       "         9.367497  ,   9.34655149,   9.32522796,   9.30352382,\n",
       "         9.2814364 ,   9.25896296,   9.23610067,   9.21284664,\n",
       "         9.1891979 ,   9.16515139,   9.14070397,   9.11585242,\n",
       "         9.09059343,   9.06492358,   9.03883938,   9.01233722,\n",
       "         8.98541342,   8.95806416,   8.93028555,   8.90207356,\n",
       "         8.87342405,   8.84433277,   8.81479536,   8.78480731,\n",
       "         8.75436399,   8.72346063,   8.69209233,   8.66025404,\n",
       "        -9.98749218,  -9.99011857,  -9.99243541,  -9.9944429 ,\n",
       "        -9.99614123,  -9.99753056,  -9.99861101,  -9.9993827 ,\n",
       "        -9.99984568, -10.        ,  -9.99984568,  -9.9993827 ,\n",
       "        -9.99861101,  -9.99753056,  -9.99614123,  -9.9944429 ,\n",
       "        -9.99243541,  -9.99011857,  -9.98749218,  -9.98455598,\n",
       "        -9.98130969,  -9.97775303,  -9.97388566,  -9.9697072 ,\n",
       "        -9.96521729,  -9.96041548,  -9.95530134,  -9.94987437,\n",
       "        -9.94413407,  -9.9380799 ,  -9.93171128,  -9.9250276 ,\n",
       "        -9.91802823,  -9.9107125 ,  -9.90307971,  -9.89512912,\n",
       "        -9.88685997,  -9.87827145,  -9.86936274,  -9.86013297,\n",
       "        -9.85058123,  -9.84070659,  -9.83050807,  -9.81998466,\n",
       "        -9.80913532,  -9.79795897,  -9.78645448,  -9.7746207 ,\n",
       "        -9.76245643,  -9.74996043,  -9.73713143,  -9.7239681 ,\n",
       "        -9.71046909,  -9.69663299,  -9.68245837,  -9.66794372,\n",
       "        -9.65308753,  -9.6378882 ,  -9.62234411,  -9.60645359,\n",
       "        -9.59021492,  -9.57362632,  -9.55668598,  -9.53939201,\n",
       "        -9.5217425 ,  -9.50373546,  -9.48536885,  -9.46664058,\n",
       "        -9.44754851,  -9.42809042,  -9.40826403,  -9.38806703,\n",
       "        -9.367497  ,  -9.34655149,  -9.32522796,  -9.30352382,\n",
       "        -9.2814364 ,  -9.25896296,  -9.23610067,  -9.21284664,\n",
       "        -9.1891979 ,  -9.16515139,  -9.14070397,  -9.11585242,\n",
       "        -9.09059343,  -9.06492358,  -9.03883938,  -9.01233722,\n",
       "        -8.98541342,  -8.95806416,  -8.93028555,  -8.90207356,\n",
       "        -8.87342405,  -8.84433277,  -8.81479536,  -8.78480731,\n",
       "        -8.75436399,  -8.72346063,  -8.69209233,  -8.66025404])"
      ]
     },
     "execution_count": 3,
     "metadata": {},
     "output_type": "execute_result"
    }
   ],
   "source": [
    "y"
   ]
  },
  {
   "cell_type": "code",
   "execution_count": 4,
   "metadata": {},
   "outputs": [],
   "source": [
    "x1 = np.linspace(-5.0,5.0,100)\n",
    "y1 = np.sqrt(5**2 - x1**2)\n",
    "y1 = np.hstack([y1,-y1])\n",
    "x1 = np.hstack([x1,-x1])"
   ]
  },
  {
   "cell_type": "code",
   "execution_count": 5,
   "metadata": {},
   "outputs": [
    {
     "data": {
      "text/plain": [
       "<matplotlib.collections.PathCollection at 0x1ec69efa330>"
      ]
     },
     "execution_count": 5,
     "metadata": {},
     "output_type": "execute_result"
    },
    {
     "data": {
      "image/png": "[encoded data removed]",
      "text/plain": [
       "<Figure size 640x480 with 1 Axes>"
      ]
     },
     "metadata": {},
     "output_type": "display_data"
    }
   ],
   "source": [
    "plt.scatter(y,x)\n",
    "plt.scatter(y1,x1)"
   ]
  },
  {
   "cell_type": "code",
   "execution_count": 6,
   "metadata": {},
   "outputs": [
    {
     "data": {
      "text/plain": [
       "array([[  9.98749218,  -0.5       ],\n",
       "       [  9.99011857,  -0.44444444],\n",
       "       [  9.99243541,  -0.38888889],\n",
       "       [  9.9944429 ,  -0.33333333],\n",
       "       [  9.99614123,  -0.27777778],\n",
       "       [  9.99753056,  -0.22222222],\n",
       "       [  9.99861101,  -0.16666667],\n",
       "       [  9.9993827 ,  -0.11111111],\n",
       "       [  9.99984568,  -0.05555556],\n",
       "       [ 10.        ,   0.        ],\n",
       "       [  9.99984568,   0.05555556],\n",
       "       [  9.9993827 ,   0.11111111],\n",
       "       [  9.99861101,   0.16666667],\n",
       "       [  9.99753056,   0.22222222],\n",
       "       [  9.99614123,   0.27777778],\n",
       "       [  9.9944429 ,   0.33333333],\n",
       "       [  9.99243541,   0.38888889],\n",
       "       [  9.99011857,   0.44444444],\n",
       "       [  9.98749218,   0.5       ],\n",
       "       [  9.98455598,   0.55555556],\n",
       "       [  9.98130969,   0.61111111],\n",
       "       [  9.97775303,   0.66666667],\n",
       "       [  9.97388566,   0.72222222],\n",
       "       [  9.9697072 ,   0.77777778],\n",
       "       [  9.96521729,   0.83333333],\n",
       "       [  9.96041548,   0.88888889],\n",
       "       [  9.95530134,   0.94444444],\n",
       "       [  9.94987437,   1.        ],\n",
       "       [  9.94413407,   1.05555556],\n",
       "       [  9.9380799 ,   1.11111111],\n",
       "       [  9.93171128,   1.16666667],\n",
       "       [  9.9250276 ,   1.22222222],\n",
       "       [  9.91802823,   1.27777778],\n",
       "       [  9.9107125 ,   1.33333333],\n",
       "       [  9.90307971,   1.38888889],\n",
       "       [  9.89512912,   1.44444444],\n",
       "       [  9.88685997,   1.5       ],\n",
       "       [  9.87827145,   1.55555556],\n",
       "       [  9.86936274,   1.61111111],\n",
       "       [  9.86013297,   1.66666667],\n",
       "       [  9.85058123,   1.72222222],\n",
       "       [  9.84070659,   1.77777778],\n",
       "       [  9.83050807,   1.83333333],\n",
       "       [  9.81998466,   1.88888889],\n",
       "       [  9.80913532,   1.94444444],\n",
       "       [  9.79795897,   2.        ],\n",
       "       [  9.78645448,   2.05555556],\n",
       "       [  9.7746207 ,   2.11111111],\n",
       "       [  9.76245643,   2.16666667],\n",
       "       [  9.74996043,   2.22222222],\n",
       "       [  9.73713143,   2.27777778],\n",
       "       [  9.7239681 ,   2.33333333],\n",
       "       [  9.71046909,   2.38888889],\n",
       "       [  9.69663299,   2.44444444],\n",
       "       [  9.68245837,   2.5       ],\n",
       "       [  9.66794372,   2.55555556],\n",
       "       [  9.65308753,   2.61111111],\n",
       "       [  9.6378882 ,   2.66666667],\n",
       "       [  9.62234411,   2.72222222],\n",
       "       [  9.60645359,   2.77777778],\n",
       "       [  9.59021492,   2.83333333],\n",
       "       [  9.57362632,   2.88888889],\n",
       "       [  9.55668598,   2.94444444],\n",
       "       [  9.53939201,   3.        ],\n",
       "       [  9.5217425 ,   3.05555556],\n",
       "       [  9.50373546,   3.11111111],\n",
       "       [  9.48536885,   3.16666667],\n",
       "       [  9.46664058,   3.22222222],\n",
       "       [  9.44754851,   3.27777778],\n",
       "       [  9.42809042,   3.33333333],\n",
       "       [  9.40826403,   3.38888889],\n",
       "       [  9.38806703,   3.44444444],\n",
       "       [  9.367497  ,   3.5       ],\n",
       "       [  9.34655149,   3.55555556],\n",
       "       [  9.32522796,   3.61111111],\n",
       "       [  9.30352382,   3.66666667],\n",
       "       [  9.2814364 ,   3.72222222],\n",
       "       [  9.25896296,   3.77777778],\n",
       "       [  9.23610067,   3.83333333],\n",
       "       [  9.21284664,   3.88888889],\n",
       "       [  9.1891979 ,   3.94444444],\n",
       "       [  9.16515139,   4.        ],\n",
       "       [  9.14070397,   4.05555556],\n",
       "       [  9.11585242,   4.11111111],\n",
       "       [  9.09059343,   4.16666667],\n",
       "       [  9.06492358,   4.22222222],\n",
       "       [  9.03883938,   4.27777778],\n",
       "       [  9.01233722,   4.33333333],\n",
       "       [  8.98541342,   4.38888889],\n",
       "       [  8.95806416,   4.44444444],\n",
       "       [  8.93028555,   4.5       ],\n",
       "       [  8.90207356,   4.55555556],\n",
       "       [  8.87342405,   4.61111111],\n",
       "       [  8.84433277,   4.66666667],\n",
       "       [  8.81479536,   4.72222222],\n",
       "       [  8.78480731,   4.77777778],\n",
       "       [  8.75436399,   4.83333333],\n",
       "       [  8.72346063,   4.88888889],\n",
       "       [  8.69209233,   4.94444444],\n",
       "       [  8.66025404,   5.        ],\n",
       "       [ -9.98749218,   0.5       ],\n",
       "       [ -9.99011857,   0.44444444],\n",
       "       [ -9.99243541,   0.38888889],\n",
       "       [ -9.9944429 ,   0.33333333],\n",
       "       [ -9.99614123,   0.27777778],\n",
       "       [ -9.99753056,   0.22222222],\n",
       "       [ -9.99861101,   0.16666667],\n",
       "       [ -9.9993827 ,   0.11111111],\n",
       "       [ -9.99984568,   0.05555556],\n",
       "       [-10.        ,  -0.        ],\n",
       "       [ -9.99984568,  -0.05555556],\n",
       "       [ -9.9993827 ,  -0.11111111],\n",
       "       [ -9.99861101,  -0.16666667],\n",
       "       [ -9.99753056,  -0.22222222],\n",
       "       [ -9.99614123,  -0.27777778],\n",
       "       [ -9.9944429 ,  -0.33333333],\n",
       "       [ -9.99243541,  -0.38888889],\n",
       "       [ -9.99011857,  -0.44444444],\n",
       "       [ -9.98749218,  -0.5       ],\n",
       "       [ -9.98455598,  -0.55555556],\n",
       "       [ -9.98130969,  -0.61111111],\n",
       "       [ -9.97775303,  -0.66666667],\n",
       "       [ -9.97388566,  -0.72222222],\n",
       "       [ -9.9697072 ,  -0.77777778],\n",
       "       [ -9.96521729,  -0.83333333],\n",
       "       [ -9.96041548,  -0.88888889],\n",
       "       [ -9.95530134,  -0.94444444],\n",
       "       [ -9.94987437,  -1.        ],\n",
       "       [ -9.94413407,  -1.05555556],\n",
       "       [ -9.9380799 ,  -1.11111111],\n",
       "       [ -9.93171128,  -1.16666667],\n",
       "       [ -9.9250276 ,  -1.22222222],\n",
       "       [ -9.91802823,  -1.27777778],\n",
       "       [ -9.9107125 ,  -1.33333333],\n",
       "       [ -9.90307971,  -1.38888889],\n",
       "       [ -9.89512912,  -1.44444444],\n",
       "       [ -9.88685997,  -1.5       ],\n",
       "       [ -9.87827145,  -1.55555556],\n",
       "       [ -9.86936274,  -1.61111111],\n",
       "       [ -9.86013297,  -1.66666667],\n",
       "       [ -9.85058123,  -1.72222222],\n",
       "       [ -9.84070659,  -1.77777778],\n",
       "       [ -9.83050807,  -1.83333333],\n",
       "       [ -9.81998466,  -1.88888889],\n",
       "       [ -9.80913532,  -1.94444444],\n",
       "       [ -9.79795897,  -2.        ],\n",
       "       [ -9.78645448,  -2.05555556],\n",
       "       [ -9.7746207 ,  -2.11111111],\n",
       "       [ -9.76245643,  -2.16666667],\n",
       "       [ -9.74996043,  -2.22222222],\n",
       "       [ -9.73713143,  -2.27777778],\n",
       "       [ -9.7239681 ,  -2.33333333],\n",
       "       [ -9.71046909,  -2.38888889],\n",
       "       [ -9.69663299,  -2.44444444],\n",
       "       [ -9.68245837,  -2.5       ],\n",
       "       [ -9.66794372,  -2.55555556],\n",
       "       [ -9.65308753,  -2.61111111],\n",
       "       [ -9.6378882 ,  -2.66666667],\n",
       "       [ -9.62234411,  -2.72222222],\n",
       "       [ -9.60645359,  -2.77777778],\n",
       "       [ -9.59021492,  -2.83333333],\n",
       "       [ -9.57362632,  -2.88888889],\n",
       "       [ -9.55668598,  -2.94444444],\n",
       "       [ -9.53939201,  -3.        ],\n",
       "       [ -9.5217425 ,  -3.05555556],\n",
       "       [ -9.50373546,  -3.11111111],\n",
       "       [ -9.48536885,  -3.16666667],\n",
       "       [ -9.46664058,  -3.22222222],\n",
       "       [ -9.44754851,  -3.27777778],\n",
       "       [ -9.42809042,  -3.33333333],\n",
       "       [ -9.40826403,  -3.38888889],\n",
       "       [ -9.38806703,  -3.44444444],\n",
       "       [ -9.367497  ,  -3.5       ],\n",
       "       [ -9.34655149,  -3.55555556],\n",
       "       [ -9.32522796,  -3.61111111],\n",
       "       [ -9.30352382,  -3.66666667],\n",
       "       [ -9.2814364 ,  -3.72222222],\n",
       "       [ -9.25896296,  -3.77777778],\n",
       "       [ -9.23610067,  -3.83333333],\n",
       "       [ -9.21284664,  -3.88888889],\n",
       "       [ -9.1891979 ,  -3.94444444],\n",
       "       [ -9.16515139,  -4.        ],\n",
       "       [ -9.14070397,  -4.05555556],\n",
       "       [ -9.11585242,  -4.11111111],\n",
       "       [ -9.09059343,  -4.16666667],\n",
       "       [ -9.06492358,  -4.22222222],\n",
       "       [ -9.03883938,  -4.27777778],\n",
       "       [ -9.01233722,  -4.33333333],\n",
       "       [ -8.98541342,  -4.38888889],\n",
       "       [ -8.95806416,  -4.44444444],\n",
       "       [ -8.93028555,  -4.5       ],\n",
       "       [ -8.90207356,  -4.55555556],\n",
       "       [ -8.87342405,  -4.61111111],\n",
       "       [ -8.84433277,  -4.66666667],\n",
       "       [ -8.81479536,  -4.72222222],\n",
       "       [ -8.78480731,  -4.77777778],\n",
       "       [ -8.75436399,  -4.83333333],\n",
       "       [ -8.72346063,  -4.88888889],\n",
       "       [ -8.69209233,  -4.94444444],\n",
       "       [ -8.66025404,  -5.        ]])"
      ]
     },
     "execution_count": 6,
     "metadata": {},
     "output_type": "execute_result"
    }
   ],
   "source": [
    "np.vstack([y,x]).T  # tranpose matrix jonno vstack create korbo"
   ]
  },
  {
   "cell_type": "code",
   "execution_count": 7,
   "metadata": {},
   "outputs": [
    {
     "data": {
      "text/html": [
       "<div>\n",
       "<style scoped>\n",
       "    .dataframe tbody tr th:only-of-type {\n",
       "        vertical-align: middle;\n",
       "    }\n",
       "\n",
       "    .dataframe tbody tr th {\n",
       "        vertical-align: top;\n",
       "    }\n",
       "\n",
       "    .dataframe thead th {\n",
       "        text-align: right;\n",
       "    }\n",
       "</style>\n",
       "<table border=\"1\" class=\"dataframe\">\n",
       "  <thead>\n",
       "    <tr style=\"text-align: right;\">\n",
       "      <th></th>\n",
       "      <th>X1</th>\n",
       "      <th>X2</th>\n",
       "      <th>Y</th>\n",
       "    </tr>\n",
       "  </thead>\n",
       "  <tbody>\n",
       "    <tr>\n",
       "      <th>0</th>\n",
       "      <td>9.987492</td>\n",
       "      <td>-0.500000</td>\n",
       "      <td>0</td>\n",
       "    </tr>\n",
       "    <tr>\n",
       "      <th>1</th>\n",
       "      <td>9.990119</td>\n",
       "      <td>-0.444444</td>\n",
       "      <td>0</td>\n",
       "    </tr>\n",
       "    <tr>\n",
       "      <th>2</th>\n",
       "      <td>9.992435</td>\n",
       "      <td>-0.388889</td>\n",
       "      <td>0</td>\n",
       "    </tr>\n",
       "    <tr>\n",
       "      <th>3</th>\n",
       "      <td>9.994443</td>\n",
       "      <td>-0.333333</td>\n",
       "      <td>0</td>\n",
       "    </tr>\n",
       "    <tr>\n",
       "      <th>4</th>\n",
       "      <td>9.996141</td>\n",
       "      <td>-0.277778</td>\n",
       "      <td>0</td>\n",
       "    </tr>\n",
       "  </tbody>\n",
       "</table>\n",
       "</div>"
      ],
      "text/plain": [
       "         X1        X2  Y\n",
       "0  9.987492 -0.500000  0\n",
       "1  9.990119 -0.444444  0\n",
       "2  9.992435 -0.388889  0\n",
       "3  9.994443 -0.333333  0\n",
       "4  9.996141 -0.277778  0"
      ]
     },
     "execution_count": 7,
     "metadata": {},
     "output_type": "execute_result"
    }
   ],
   "source": [
    "import pandas as pd\n",
    "df1 = pd.DataFrame(np.vstack([y,x]).T,columns = ['X1','X2'])\n",
    "df1['Y'] = 0\n",
    "df2 = pd.DataFrame(np.vstack([y1,x1]).T,columns =['X1','X2'])\n",
    "df2['Y'] = 1\n",
    "df = pd.concat([df1,df2])\n",
    "df.head(5)"
   ]
  },
  {
   "cell_type": "code",
   "execution_count": 8,
   "metadata": {},
   "outputs": [
    {
     "data": {
      "text/html": [
       "<div>\n",
       "<style scoped>\n",
       "    .dataframe tbody tr th:only-of-type {\n",
       "        vertical-align: middle;\n",
       "    }\n",
       "\n",
       "    .dataframe tbody tr th {\n",
       "        vertical-align: top;\n",
       "    }\n",
       "\n",
       "    .dataframe thead th {\n",
       "        text-align: right;\n",
       "    }\n",
       "</style>\n",
       "<table border=\"1\" class=\"dataframe\">\n",
       "  <thead>\n",
       "    <tr style=\"text-align: right;\">\n",
       "      <th></th>\n",
       "      <th>X1</th>\n",
       "      <th>X2</th>\n",
       "      <th>Y</th>\n",
       "    </tr>\n",
       "  </thead>\n",
       "  <tbody>\n",
       "    <tr>\n",
       "      <th>195</th>\n",
       "      <td>-1.969049</td>\n",
       "      <td>-4.59596</td>\n",
       "      <td>1</td>\n",
       "    </tr>\n",
       "    <tr>\n",
       "      <th>196</th>\n",
       "      <td>-1.714198</td>\n",
       "      <td>-4.69697</td>\n",
       "      <td>1</td>\n",
       "    </tr>\n",
       "    <tr>\n",
       "      <th>197</th>\n",
       "      <td>-1.406908</td>\n",
       "      <td>-4.79798</td>\n",
       "      <td>1</td>\n",
       "    </tr>\n",
       "    <tr>\n",
       "      <th>198</th>\n",
       "      <td>-0.999949</td>\n",
       "      <td>-4.89899</td>\n",
       "      <td>1</td>\n",
       "    </tr>\n",
       "    <tr>\n",
       "      <th>199</th>\n",
       "      <td>-0.000000</td>\n",
       "      <td>-5.00000</td>\n",
       "      <td>1</td>\n",
       "    </tr>\n",
       "  </tbody>\n",
       "</table>\n",
       "</div>"
      ],
      "text/plain": [
       "           X1       X2  Y\n",
       "195 -1.969049 -4.59596  1\n",
       "196 -1.714198 -4.69697  1\n",
       "197 -1.406908 -4.79798  1\n",
       "198 -0.999949 -4.89899  1\n",
       "199 -0.000000 -5.00000  1"
      ]
     },
     "execution_count": 8,
     "metadata": {},
     "output_type": "execute_result"
    }
   ],
   "source": [
    "df.tail()"
   ]
  },
  {
   "cell_type": "code",
   "execution_count": 9,
   "metadata": {},
   "outputs": [],
   "source": [
    "# Independent and Dependent features\n",
    "X =df.iloc[:, :2]\n",
    "y = df.Y"
   ]
  },
  {
   "cell_type": "code",
   "execution_count": 10,
   "metadata": {},
   "outputs": [
    {
     "data": {
      "text/plain": [
       "0      0\n",
       "1      0\n",
       "2      0\n",
       "3      0\n",
       "4      0\n",
       "      ..\n",
       "195    1\n",
       "196    1\n",
       "197    1\n",
       "198    1\n",
       "199    1\n",
       "Name: Y, Length: 400, dtype: int64"
      ]
     },
     "execution_count": 10,
     "metadata": {},
     "output_type": "execute_result"
    }
   ],
   "source": [
    "y"
   ]
  },
  {
   "cell_type": "code",
   "execution_count": 11,
   "metadata": {},
   "outputs": [],
   "source": [
    "from sklearn.model_selection import train_test_split\n",
    "xtrain,xtest,ytrain,ytest =train_test_split(X,y,test_size=0.25,random_state=1)"
   ]
  },
  {
   "cell_type": "code",
   "execution_count": 12,
   "metadata": {},
   "outputs": [
    {
     "data": {
      "text/plain": [
       "82     0\n",
       "167    1\n",
       "179    0\n",
       "27     0\n",
       "89     0\n",
       "      ..\n",
       "55     1\n",
       "72     0\n",
       "196    1\n",
       "35     1\n",
       "37     0\n",
       "Name: Y, Length: 300, dtype: int64"
      ]
     },
     "execution_count": 12,
     "metadata": {},
     "output_type": "execute_result"
    }
   ],
   "source": [
    "ytrain"
   ]
  },
  {
   "cell_type": "markdown",
   "metadata": {},
   "source": [
    "Ploynomial Kernel"
   ]
  },
  {
   "cell_type": "code",
   "execution_count": 13,
   "metadata": {},
   "outputs": [
    {
     "data": {
      "text/html": [
       "<div>\n",
       "<style scoped>\n",
       "    .dataframe tbody tr th:only-of-type {\n",
       "        vertical-align: middle;\n",
       "    }\n",
       "\n",
       "    .dataframe tbody tr th {\n",
       "        vertical-align: top;\n",
       "    }\n",
       "\n",
       "    .dataframe thead th {\n",
       "        text-align: right;\n",
       "    }\n",
       "</style>\n",
       "<table border=\"1\" class=\"dataframe\">\n",
       "  <thead>\n",
       "    <tr style=\"text-align: right;\">\n",
       "      <th></th>\n",
       "      <th>X1</th>\n",
       "      <th>X2</th>\n",
       "      <th>Y</th>\n",
       "      <th>X1_Square</th>\n",
       "      <th>X2_Square</th>\n",
       "      <th>X1*X2</th>\n",
       "    </tr>\n",
       "  </thead>\n",
       "  <tbody>\n",
       "    <tr>\n",
       "      <th>0</th>\n",
       "      <td>9.987492</td>\n",
       "      <td>-0.500000</td>\n",
       "      <td>0</td>\n",
       "      <td>99.750000</td>\n",
       "      <td>0.250000</td>\n",
       "      <td>-4.993746</td>\n",
       "    </tr>\n",
       "    <tr>\n",
       "      <th>1</th>\n",
       "      <td>9.990119</td>\n",
       "      <td>-0.444444</td>\n",
       "      <td>0</td>\n",
       "      <td>99.802469</td>\n",
       "      <td>0.197531</td>\n",
       "      <td>-4.440053</td>\n",
       "    </tr>\n",
       "    <tr>\n",
       "      <th>2</th>\n",
       "      <td>9.992435</td>\n",
       "      <td>-0.388889</td>\n",
       "      <td>0</td>\n",
       "      <td>99.848765</td>\n",
       "      <td>0.151235</td>\n",
       "      <td>-3.885947</td>\n",
       "    </tr>\n",
       "    <tr>\n",
       "      <th>3</th>\n",
       "      <td>9.994443</td>\n",
       "      <td>-0.333333</td>\n",
       "      <td>0</td>\n",
       "      <td>99.888889</td>\n",
       "      <td>0.111111</td>\n",
       "      <td>-3.331481</td>\n",
       "    </tr>\n",
       "    <tr>\n",
       "      <th>4</th>\n",
       "      <td>9.996141</td>\n",
       "      <td>-0.277778</td>\n",
       "      <td>0</td>\n",
       "      <td>99.922840</td>\n",
       "      <td>0.077160</td>\n",
       "      <td>-2.776706</td>\n",
       "    </tr>\n",
       "  </tbody>\n",
       "</table>\n",
       "</div>"
      ],
      "text/plain": [
       "         X1        X2  Y  X1_Square  X2_Square     X1*X2\n",
       "0  9.987492 -0.500000  0  99.750000   0.250000 -4.993746\n",
       "1  9.990119 -0.444444  0  99.802469   0.197531 -4.440053\n",
       "2  9.992435 -0.388889  0  99.848765   0.151235 -3.885947\n",
       "3  9.994443 -0.333333  0  99.888889   0.111111 -3.331481\n",
       "4  9.996141 -0.277778  0  99.922840   0.077160 -2.776706"
      ]
     },
     "execution_count": 13,
     "metadata": {},
     "output_type": "execute_result"
    }
   ],
   "source": [
    "# we need to find components for the ploynomical kernel\n",
    "#X1,X2,X1_square,X2_square,X1*x2\n",
    "df['X1_Square'] = df['X1']**2\n",
    "df['X2_Square'] = df['X2']**2\n",
    "df['X1*X2'] = (df['X1'] *df['X2'])\n",
    "df.head()"
   ]
  },
  {
   "cell_type": "code",
   "execution_count": 14,
   "metadata": {},
   "outputs": [],
   "source": [
    "# Independent and Dependent features\n",
    "X = df[['X1','X2','X1_Square','X2_Square','X1*X2']]\n",
    "y = df['Y']\n"
   ]
  },
  {
   "cell_type": "code",
   "execution_count": 15,
   "metadata": {},
   "outputs": [
    {
     "data": {
      "text/html": [
       "<div>\n",
       "<style scoped>\n",
       "    .dataframe tbody tr th:only-of-type {\n",
       "        vertical-align: middle;\n",
       "    }\n",
       "\n",
       "    .dataframe tbody tr th {\n",
       "        vertical-align: top;\n",
       "    }\n",
       "\n",
       "    .dataframe thead th {\n",
       "        text-align: right;\n",
       "    }\n",
       "</style>\n",
       "<table border=\"1\" class=\"dataframe\">\n",
       "  <thead>\n",
       "    <tr style=\"text-align: right;\">\n",
       "      <th></th>\n",
       "      <th>X1</th>\n",
       "      <th>X2</th>\n",
       "      <th>X1_Square</th>\n",
       "      <th>X2_Square</th>\n",
       "      <th>X1*X2</th>\n",
       "    </tr>\n",
       "  </thead>\n",
       "  <tbody>\n",
       "    <tr>\n",
       "      <th>82</th>\n",
       "      <td>9.140704</td>\n",
       "      <td>4.055556</td>\n",
       "      <td>83.552469</td>\n",
       "      <td>16.447531</td>\n",
       "      <td>37.070633</td>\n",
       "    </tr>\n",
       "    <tr>\n",
       "      <th>167</th>\n",
       "      <td>-4.677106</td>\n",
       "      <td>-1.767677</td>\n",
       "      <td>21.875319</td>\n",
       "      <td>3.124681</td>\n",
       "      <td>8.267611</td>\n",
       "    </tr>\n",
       "    <tr>\n",
       "      <th>179</th>\n",
       "      <td>-9.212847</td>\n",
       "      <td>-3.888889</td>\n",
       "      <td>84.876543</td>\n",
       "      <td>15.123457</td>\n",
       "      <td>35.827737</td>\n",
       "    </tr>\n",
       "    <tr>\n",
       "      <th>27</th>\n",
       "      <td>9.949874</td>\n",
       "      <td>1.000000</td>\n",
       "      <td>99.000000</td>\n",
       "      <td>1.000000</td>\n",
       "      <td>9.949874</td>\n",
       "    </tr>\n",
       "    <tr>\n",
       "      <th>89</th>\n",
       "      <td>8.958064</td>\n",
       "      <td>4.444444</td>\n",
       "      <td>80.246914</td>\n",
       "      <td>19.753086</td>\n",
       "      <td>39.813619</td>\n",
       "    </tr>\n",
       "    <tr>\n",
       "      <th>...</th>\n",
       "      <td>...</td>\n",
       "      <td>...</td>\n",
       "      <td>...</td>\n",
       "      <td>...</td>\n",
       "      <td>...</td>\n",
       "    </tr>\n",
       "    <tr>\n",
       "      <th>55</th>\n",
       "      <td>4.969040</td>\n",
       "      <td>0.555556</td>\n",
       "      <td>24.691358</td>\n",
       "      <td>0.308642</td>\n",
       "      <td>2.760578</td>\n",
       "    </tr>\n",
       "    <tr>\n",
       "      <th>72</th>\n",
       "      <td>9.367497</td>\n",
       "      <td>3.500000</td>\n",
       "      <td>87.750000</td>\n",
       "      <td>12.250000</td>\n",
       "      <td>32.786239</td>\n",
       "    </tr>\n",
       "    <tr>\n",
       "      <th>196</th>\n",
       "      <td>-1.714198</td>\n",
       "      <td>-4.696970</td>\n",
       "      <td>2.938476</td>\n",
       "      <td>22.061524</td>\n",
       "      <td>8.051537</td>\n",
       "    </tr>\n",
       "    <tr>\n",
       "      <th>35</th>\n",
       "      <td>4.780671</td>\n",
       "      <td>-1.464646</td>\n",
       "      <td>22.854811</td>\n",
       "      <td>2.145189</td>\n",
       "      <td>-7.001992</td>\n",
       "    </tr>\n",
       "    <tr>\n",
       "      <th>37</th>\n",
       "      <td>9.878271</td>\n",
       "      <td>1.555556</td>\n",
       "      <td>97.580247</td>\n",
       "      <td>2.419753</td>\n",
       "      <td>15.366200</td>\n",
       "    </tr>\n",
       "  </tbody>\n",
       "</table>\n",
       "<p>300 rows × 5 columns</p>\n",
       "</div>"
      ],
      "text/plain": [
       "           X1        X2  X1_Square  X2_Square      X1*X2\n",
       "82   9.140704  4.055556  83.552469  16.447531  37.070633\n",
       "167 -4.677106 -1.767677  21.875319   3.124681   8.267611\n",
       "179 -9.212847 -3.888889  84.876543  15.123457  35.827737\n",
       "27   9.949874  1.000000  99.000000   1.000000   9.949874\n",
       "89   8.958064  4.444444  80.246914  19.753086  39.813619\n",
       "..        ...       ...        ...        ...        ...\n",
       "55   4.969040  0.555556  24.691358   0.308642   2.760578\n",
       "72   9.367497  3.500000  87.750000  12.250000  32.786239\n",
       "196 -1.714198 -4.696970   2.938476  22.061524   8.051537\n",
       "35   4.780671 -1.464646  22.854811   2.145189  -7.001992\n",
       "37   9.878271  1.555556  97.580247   2.419753  15.366200\n",
       "\n",
       "[300 rows x 5 columns]"
      ]
     },
     "execution_count": 15,
     "metadata": {},
     "output_type": "execute_result"
    }
   ],
   "source": [
    "xtrain,xtest,ytrain,ytest = train_test_split(X,y,test_size=0.25,random_state=1)\n",
    "xtrain"
   ]
  },
  {
   "cell_type": "code",
   "execution_count": 16,
   "metadata": {},
   "outputs": [
    {
     "data": {
      "application/vnd.plotly.v1+json": {
       "config": {
        "plotlyServerURL": "https://plot.ly"
       },
       "data": [
        {
         "hovertemplate": "X1=%{x}<br>X2=%{y}<br>X1*X2=%{z}<br>Y=%{marker.color}<extra></extra>",
         "legendgroup": "",
         "marker": {
          "color": [
           0,
           0,
           0,
           0,
           0,
           0,
           0,
           0,
           0,
           0,
           0,
           0,
           0,
           0,
           0,
           0,
           0,
           0,
           0,
           0,
           0,
           0,
           0,
           0,
           0,
           0,
           0,
           0,
           0,
           0,
           0,
           0,
           0,
           0,
           0,
           0,
           0,
           0,
           0,
           0,
           0,
           0,
           0,
           0,
           0,
           0,
           0,
           0,
           0,
           0,
           0,
           0,
           0,
           0,
           0,
           0,
           0,
           0,
           0,
           0,
           0,
           0,
           0,
           0,
           0,
           0,
           0,
           0,
           0,
           0,
           0,
           0,
           0,
           0,
           0,
           0,
           0,
           0,
           0,
           0,
           0,
           0,
           0,
           0,
           0,
           0,
           0,
           0,
           0,
           0,
           0,
           0,
           0,
           0,
           0,
           0,
           0,
           0,
           0,
           0,
           0,
           0,
           0,
           0,
           0,
           0,
           0,
           0,
           0,
           0,
           0,
           0,
           0,
           0,
           0,
           0,
           0,
           0,
           0,
           0,
           0,
           0,
           0,
           0,
           0,
           0,
           0,
           0,
           0,
           0,
           0,
           0,
           0,
           0,
           0,
           0,
           0,
           0,
           0,
           0,
           0,
           0,
           0,
           0,
           0,
           0,
           0,
           0,
           0,
           0,
           0,
           0,
           0,
           0,
           0,
           0,
           0,
           0,
           0,
           0,
           0,
           0,
           0,
           0,
           0,
           0,
           0,
           0,
           0,
           0,
           0,
           0,
           0,
           0,
           0,
           0,
           0,
           0,
           0,
           0,
           0,
           0,
           0,
           0,
           0,
           0,
           0,
           0,
           0,
           0,
           0,
           0,
           0,
           0,
           0,
           0,
           0,
           0,
           0,
           0,
           1,
           1,
           1,
           1,
           1,
           1,
           1,
           1,
           1,
           1,
           1,
           1,
           1,
           1,
           1,
           1,
           1,
           1,
           1,
           1,
           1,
           1,
           1,
           1,
           1,
           1,
           1,
           1,
           1,
           1,
           1,
           1,
           1,
           1,
           1,
           1,
           1,
           1,
           1,
           1,
           1,
           1,
           1,
           1,
           1,
           1,
           1,
           1,
           1,
           1,
           1,
           1,
           1,
           1,
           1,
           1,
           1,
           1,
           1,
           1,
           1,
           1,
           1,
           1,
           1,
           1,
           1,
           1,
           1,
           1,
           1,
           1,
           1,
           1,
           1,
           1,
           1,
           1,
           1,
           1,
           1,
           1,
           1,
           1,
           1,
           1,
           1,
           1,
           1,
           1,
           1,
           1,
           1,
           1,
           1,
           1,
           1,
           1,
           1,
           1,
           1,
           1,
           1,
           1,
           1,
           1,
           1,
           1,
           1,
           1,
           1,
           1,
           1,
           1,
           1,
           1,
           1,
           1,
           1,
           1,
           1,
           1,
           1,
           1,
           1,
           1,
           1,
           1,
           1,
           1,
           1,
           1,
           1,
           1,
           1,
           1,
           1,
           1,
           1,
           1,
           1,
           1,
           1,
           1,
           1,
           1,
           1,
           1,
           1,
           1,
           1,
           1,
           1,
           1,
           1,
           1,
           1,
           1,
           1,
           1,
           1,
           1,
           1,
           1,
           1,
           1,
           1,
           1,
           1,
           1,
           1,
           1,
           1,
           1,
           1,
           1,
           1,
           1,
           1,
           1,
           1,
           1,
           1,
           1,
           1,
           1,
           1,
           1,
           1,
           1,
           1,
           1,
           1,
           1,
           1,
           1,
           1,
           1,
           1,
           1
          ],
          "coloraxis": "coloraxis",
          "symbol": "circle"
         },
         "mode": "markers",
         "name": "",
         "scene": "scene",
         "showlegend": false,
         "type": "scatter3d",
         "x": [
          9.987492177719089,
          9.990118574661787,
          9.992435410454188,
          9.994442900376633,
          9.996141230803657,
          9.99753055929066,
          9.998611014647096,
          9.999382696996234,
          9.999845677821579,
          10,
          9.999845677821579,
          9.999382696996234,
          9.998611014647096,
          9.99753055929066,
          9.996141230803657,
          9.994442900376633,
          9.992435410454188,
          9.990118574661787,
          9.987492177719089,
          9.984555975339683,
          9.981309694117128,
          9.977753031397176,
          9.973885655136035,
          9.969707203744504,
          9.965217285917833,
          9.960415480451097,
          9.955301336039911,
          9.9498743710662,
          9.944134073368872,
          9.938079899999066,
          9.931711276959721,
          9.925027598929193,
          9.918028228968563,
          9.910712498212337,
          9.90307970554216,
          9.895129117243169,
          9.886859966642595,
          9.878271453730164,
          9.869362744759883,
          9.860132971832694,
          9.850581232459533,
          9.840706589104235,
          9.830508068705752,
          9.819984662179065,
          9.809135323894209,
          9.797958971132712,
          9.786454483520817,
          9.7746207024387,
          9.762456430404981,
          9.749960430435692,
          9.737131425376868,
          9.72396809720988,
          9.71046908632859,
          9.696632990787302,
          9.682458365518542,
          9.667943721519542,
          9.653087525006292,
          9.637888196533973,
          9.622344110082507,
          9.60645359210588,
          9.590214920543868,
          9.573626323794674,
          9.556685979646932,
          9.539392014169456,
          9.521742500557005,
          9.503735457930265,
          9.48536885008813,
          9.466640584210287,
          9.447548509507966,
          9.428090415820634,
          9.408264032156273,
          9.388067025172743,
          9.367496997597597,
          9.346551486583596,
          9.325227961996955,
          9.303523824635242,
          9.281436404371634,
          9.258962958222071,
          9.236100668331607,
          9.21284663987611,
          9.189197898875143,
          9.16515138991168,
          9.140703973754016,
          9.115852424874964,
          9.090593428863095,
          9.064923579720507,
          9.038839377041205,
          9.01233722306385,
          8.985413419592204,
          8.958064164776166,
          8.930285549745875,
          8.902073555090798,
          8.87342404717523,
          8.844332774281067,
          8.814795362568017,
          8.784807311840872,
          8.754363991112598,
          8.723460633951344,
          8.692092333598538,
          8.660254037844387,
          -9.987492177719089,
          -9.990118574661787,
          -9.992435410454188,
          -9.994442900376633,
          -9.996141230803657,
          -9.99753055929066,
          -9.998611014647096,
          -9.999382696996234,
          -9.999845677821579,
          -10,
          -9.999845677821579,
          -9.999382696996234,
          -9.998611014647096,
          -9.99753055929066,
          -9.996141230803657,
          -9.994442900376633,
          -9.992435410454188,
          -9.990118574661787,
          -9.987492177719089,
          -9.984555975339683,
          -9.981309694117128,
          -9.977753031397176,
          -9.973885655136035,
          -9.969707203744504,
          -9.965217285917833,
          -9.960415480451097,
          -9.955301336039911,
          -9.9498743710662,
          -9.944134073368872,
          -9.938079899999066,
          -9.931711276959721,
          -9.925027598929193,
          -9.918028228968563,
          -9.910712498212337,
          -9.90307970554216,
          -9.895129117243169,
          -9.886859966642595,
          -9.878271453730164,
          -9.869362744759883,
          -9.860132971832694,
          -9.850581232459533,
          -9.840706589104235,
          -9.830508068705752,
          -9.819984662179065,
          -9.809135323894209,
          -9.797958971132712,
          -9.786454483520817,
          -9.7746207024387,
          -9.762456430404981,
          -9.749960430435692,
          -9.737131425376868,
          -9.72396809720988,
          -9.71046908632859,
          -9.696632990787302,
          -9.682458365518542,
          -9.667943721519542,
          -9.653087525006292,
          -9.637888196533973,
          -9.622344110082507,
          -9.60645359210588,
          -9.590214920543868,
          -9.573626323794674,
          -9.556685979646932,
          -9.539392014169456,
          -9.521742500557005,
          -9.503735457930265,
          -9.48536885008813,
          -9.466640584210287,
          -9.447548509507966,
          -9.428090415820634,
          -9.408264032156273,
          -9.388067025172743,
          -9.367496997597597,
          -9.346551486583596,
          -9.325227961996955,
          -9.303523824635242,
          -9.281436404371634,
          -9.258962958222071,
          -9.236100668331607,
          -9.21284663987611,
          -9.189197898875143,
          -9.16515138991168,
          -9.140703973754016,
          -9.115852424874964,
          -9.090593428863095,
          -9.064923579720507,
          -9.038839377041205,
          -9.01233722306385,
          -8.985413419592204,
          -8.958064164776166,
          -8.930285549745875,
          -8.902073555090798,
          -8.87342404717523,
          -8.844332774281067,
          -8.814795362568017,
          -8.784807311840872,
          -8.754363991112598,
          -8.723460633951344,
          -8.692092333598538,
          -8.660254037844387,
          0,
          0.9999489834961283,
          1.4069079067862758,
          1.714198257421933,
          1.9690493625876693,
          2.1898468069372528,
          2.386062992124792,
          2.5633489980706097,
          2.7254015279256647,
          2.8747978728803445,
          3.013420987914404,
          3.1426968052735447,
          3.263736246748184,
          3.3774249489495936,
          3.484482487002089,
          3.5855028988482522,
          3.6809832643007265,
          3.771344384362519,
          3.85694607919935,
          3.938098725175339,
          4.015072103909453,
          4.0881022918884975,
          4.15739709641549,
          4.2231403960337115,
          4.2854956435548335,
          4.3446087207285995,
          4.400610285008478,
          4.453617714151233,
          4.5037367292137285,
          4.5510627580076,
          4.59568208730397,
          4.637672841716766,
          4.677105819309182,
          4.714045207910317,
          4.748549201431579,
          4.78067053179767,
          4.810456929208347,
          4.837951521142646,
          4.863193178670999,
          4.886216817150636,
          4.907053657168129,
          4.92573145060065,
          4.9422746758485125,
          4.956704705610221,
          4.969039949999533,
          4.979295977319692,
          4.987485614395357,
          4.9936190280033435,
          4.997703788627468,
          4.999744917480639,
          4.999744917480639,
          4.997703788627468,
          4.9936190280033435,
          4.987485614395357,
          4.979295977319692,
          4.969039949999533,
          4.956704705610221,
          4.9422746758485125,
          4.92573145060065,
          4.907053657168129,
          4.886216817150636,
          4.863193178670999,
          4.837951521142646,
          4.810456929208347,
          4.78067053179767,
          4.748549201431579,
          4.714045207910317,
          4.677105819309182,
          4.637672841716766,
          4.59568208730397,
          4.5510627580076,
          4.5037367292137285,
          4.453617714151233,
          4.400610285008478,
          4.3446087207285995,
          4.2854956435548335,
          4.223140396033712,
          4.15739709641549,
          4.0881022918884975,
          4.0150721039094535,
          3.9380987251753385,
          3.85694607919935,
          3.7713443843625196,
          3.6809832643007265,
          3.5855028988482527,
          3.4844824870020883,
          3.3774249489495936,
          3.263736246748185,
          3.1426968052735442,
          3.013420987914404,
          2.874797872880346,
          2.7254015279256647,
          2.563348998070611,
          2.38606299212479,
          2.1898468069372528,
          1.9690493625876713,
          1.714198257421933,
          1.4069079067862758,
          0.9999489834961247,
          0,
          0,
          -0.9999489834961283,
          -1.4069079067862758,
          -1.714198257421933,
          -1.9690493625876693,
          -2.1898468069372528,
          -2.386062992124792,
          -2.5633489980706097,
          -2.7254015279256647,
          -2.8747978728803445,
          -3.013420987914404,
          -3.1426968052735447,
          -3.263736246748184,
          -3.3774249489495936,
          -3.484482487002089,
          -3.5855028988482522,
          -3.6809832643007265,
          -3.771344384362519,
          -3.85694607919935,
          -3.938098725175339,
          -4.015072103909453,
          -4.0881022918884975,
          -4.15739709641549,
          -4.2231403960337115,
          -4.2854956435548335,
          -4.3446087207285995,
          -4.400610285008478,
          -4.453617714151233,
          -4.5037367292137285,
          -4.5510627580076,
          -4.59568208730397,
          -4.637672841716766,
          -4.677105819309182,
          -4.714045207910317,
          -4.748549201431579,
          -4.78067053179767,
          -4.810456929208347,
          -4.837951521142646,
          -4.863193178670999,
          -4.886216817150636,
          -4.907053657168129,
          -4.92573145060065,
          -4.9422746758485125,
          -4.956704705610221,
          -4.969039949999533,
          -4.979295977319692,
          -4.987485614395357,
          -4.9936190280033435,
          -4.997703788627468,
          -4.999744917480639,
          -4.999744917480639,
          -4.997703788627468,
          -4.9936190280033435,
          -4.987485614395357,
          -4.979295977319692,
          -4.969039949999533,
          -4.956704705610221,
          -4.9422746758485125,
          -4.92573145060065,
          -4.907053657168129,
          -4.886216817150636,
          -4.863193178670999,
          -4.837951521142646,
          -4.810456929208347,
          -4.78067053179767,
          -4.748549201431579,
          -4.714045207910317,
          -4.677105819309182,
          -4.637672841716766,
          -4.59568208730397,
          -4.5510627580076,
          -4.5037367292137285,
          -4.453617714151233,
          -4.400610285008478,
          -4.3446087207285995,
          -4.2854956435548335,
          -4.223140396033712,
          -4.15739709641549,
          -4.0881022918884975,
          -4.0150721039094535,
          -3.9380987251753385,
          -3.85694607919935,
          -3.7713443843625196,
          -3.6809832643007265,
          -3.5855028988482527,
          -3.4844824870020883,
          -3.3774249489495936,
          -3.263736246748185,
          -3.1426968052735442,
          -3.013420987914404,
          -2.874797872880346,
          -2.7254015279256647,
          -2.563348998070611,
          -2.38606299212479,
          -2.1898468069372528,
          -1.9690493625876713,
          -1.714198257421933,
          -1.4069079067862758,
          -0.9999489834961247,
          0
         ],
         "y": [
          -0.5,
          -0.4444444444444444,
          -0.3888888888888889,
          -0.33333333333333337,
          -0.2777777777777778,
          -0.2222222222222222,
          -0.16666666666666669,
          -0.11111111111111116,
          -0.05555555555555558,
          0,
          0.05555555555555558,
          0.11111111111111105,
          0.16666666666666663,
          0.2222222222222222,
          0.2777777777777777,
          0.33333333333333326,
          0.38888888888888884,
          0.4444444444444444,
          0.5,
          0.5555555555555556,
          0.6111111111111112,
          0.6666666666666665,
          0.7222222222222221,
          0.7777777777777777,
          0.8333333333333333,
          0.8888888888888888,
          0.9444444444444444,
          1,
          1.0555555555555554,
          1.111111111111111,
          1.1666666666666665,
          1.222222222222222,
          1.2777777777777777,
          1.3333333333333333,
          1.3888888888888888,
          1.4444444444444444,
          1.5,
          1.5555555555555554,
          1.6111111111111112,
          1.6666666666666665,
          1.7222222222222223,
          1.7777777777777777,
          1.833333333333333,
          1.8888888888888888,
          1.9444444444444442,
          2,
          2.0555555555555554,
          2.111111111111111,
          2.1666666666666665,
          2.222222222222222,
          2.2777777777777777,
          2.333333333333333,
          2.388888888888889,
          2.444444444444444,
          2.5,
          2.5555555555555554,
          2.6111111111111107,
          2.6666666666666665,
          2.722222222222222,
          2.7777777777777777,
          2.833333333333333,
          2.888888888888889,
          2.944444444444444,
          3,
          3.0555555555555554,
          3.1111111111111107,
          3.1666666666666665,
          3.222222222222222,
          3.2777777777777777,
          3.333333333333333,
          3.388888888888889,
          3.444444444444444,
          3.5,
          3.5555555555555554,
          3.6111111111111107,
          3.666666666666666,
          3.7222222222222223,
          3.7777777777777777,
          3.833333333333333,
          3.8888888888888884,
          3.9444444444444446,
          4,
          4.055555555555555,
          4.111111111111111,
          4.166666666666666,
          4.222222222222222,
          4.277777777777778,
          4.333333333333333,
          4.388888888888888,
          4.444444444444444,
          4.5,
          4.555555555555555,
          4.611111111111111,
          4.666666666666666,
          4.722222222222222,
          4.777777777777778,
          4.833333333333333,
          4.888888888888888,
          4.944444444444444,
          5,
          0.5,
          0.4444444444444444,
          0.3888888888888889,
          0.33333333333333337,
          0.2777777777777778,
          0.2222222222222222,
          0.16666666666666669,
          0.11111111111111116,
          0.05555555555555558,
          0,
          -0.05555555555555558,
          -0.11111111111111105,
          -0.16666666666666663,
          -0.2222222222222222,
          -0.2777777777777777,
          -0.33333333333333326,
          -0.38888888888888884,
          -0.4444444444444444,
          -0.5,
          -0.5555555555555556,
          -0.6111111111111112,
          -0.6666666666666665,
          -0.7222222222222221,
          -0.7777777777777777,
          -0.8333333333333333,
          -0.8888888888888888,
          -0.9444444444444444,
          -1,
          -1.0555555555555554,
          -1.111111111111111,
          -1.1666666666666665,
          -1.222222222222222,
          -1.2777777777777777,
          -1.3333333333333333,
          -1.3888888888888888,
          -1.4444444444444444,
          -1.5,
          -1.5555555555555554,
          -1.6111111111111112,
          -1.6666666666666665,
          -1.7222222222222223,
          -1.7777777777777777,
          -1.833333333333333,
          -1.8888888888888888,
          -1.9444444444444442,
          -2,
          -2.0555555555555554,
          -2.111111111111111,
          -2.1666666666666665,
          -2.222222222222222,
          -2.2777777777777777,
          -2.333333333333333,
          -2.388888888888889,
          -2.444444444444444,
          -2.5,
          -2.5555555555555554,
          -2.6111111111111107,
          -2.6666666666666665,
          -2.722222222222222,
          -2.7777777777777777,
          -2.833333333333333,
          -2.888888888888889,
          -2.944444444444444,
          -3,
          -3.0555555555555554,
          -3.1111111111111107,
          -3.1666666666666665,
          -3.222222222222222,
          -3.2777777777777777,
          -3.333333333333333,
          -3.388888888888889,
          -3.444444444444444,
          -3.5,
          -3.5555555555555554,
          -3.6111111111111107,
          -3.666666666666666,
          -3.7222222222222223,
          -3.7777777777777777,
          -3.833333333333333,
          -3.8888888888888884,
          -3.9444444444444446,
          -4,
          -4.055555555555555,
          -4.111111111111111,
          -4.166666666666666,
          -4.222222222222222,
          -4.277777777777778,
          -4.333333333333333,
          -4.388888888888888,
          -4.444444444444444,
          -4.5,
          -4.555555555555555,
          -4.611111111111111,
          -4.666666666666666,
          -4.722222222222222,
          -4.777777777777778,
          -4.833333333333333,
          -4.888888888888888,
          -4.944444444444444,
          -5,
          -5,
          -4.898989898989899,
          -4.797979797979798,
          -4.696969696969697,
          -4.595959595959596,
          -4.494949494949495,
          -4.393939393939394,
          -4.292929292929293,
          -4.191919191919192,
          -4.090909090909091,
          -3.9898989898989896,
          -3.888888888888889,
          -3.787878787878788,
          -3.686868686868687,
          -3.5858585858585856,
          -3.484848484848485,
          -3.383838383838384,
          -3.282828282828283,
          -3.1818181818181817,
          -3.080808080808081,
          -2.9797979797979797,
          -2.878787878787879,
          -2.7777777777777777,
          -2.676767676767677,
          -2.5757575757575757,
          -2.474747474747475,
          -2.3737373737373737,
          -2.272727272727273,
          -2.1717171717171717,
          -2.070707070707071,
          -1.9696969696969697,
          -1.868686868686869,
          -1.7676767676767677,
          -1.6666666666666665,
          -1.5656565656565657,
          -1.4646464646464645,
          -1.3636363636363638,
          -1.2626262626262625,
          -1.1616161616161618,
          -1.0606060606060606,
          -0.9595959595959593,
          -0.858585858585859,
          -0.7575757575757578,
          -0.6565656565656566,
          -0.5555555555555554,
          -0.45454545454545503,
          -0.3535353535353538,
          -0.2525252525252526,
          -0.15151515151515138,
          -0.050505050505050164,
          0.050505050505050164,
          0.15151515151515138,
          0.2525252525252526,
          0.3535353535353538,
          0.45454545454545414,
          0.5555555555555554,
          0.6565656565656566,
          0.7575757575757578,
          0.8585858585858581,
          0.9595959595959593,
          1.0606060606060606,
          1.1616161616161618,
          1.262626262626262,
          1.3636363636363633,
          1.4646464646464645,
          1.5656565656565657,
          1.666666666666667,
          1.7676767676767673,
          1.8686868686868685,
          1.9696969696969697,
          2.070707070707071,
          2.1717171717171713,
          2.2727272727272725,
          2.3737373737373737,
          2.474747474747475,
          2.5757575757575752,
          2.6767676767676765,
          2.7777777777777777,
          2.878787878787879,
          2.9797979797979792,
          3.0808080808080813,
          3.1818181818181817,
          3.282828282828282,
          3.383838383838384,
          3.4848484848484844,
          3.5858585858585865,
          3.686868686868687,
          3.787878787878787,
          3.8888888888888893,
          3.9898989898989896,
          4.09090909090909,
          4.191919191919192,
          4.292929292929292,
          4.3939393939393945,
          4.494949494949495,
          4.595959595959595,
          4.696969696969697,
          4.797979797979798,
          4.8989898989899,
          5,
          5,
          4.898989898989899,
          4.797979797979798,
          4.696969696969697,
          4.595959595959596,
          4.494949494949495,
          4.393939393939394,
          4.292929292929293,
          4.191919191919192,
          4.090909090909091,
          3.9898989898989896,
          3.888888888888889,
          3.787878787878788,
          3.686868686868687,
          3.5858585858585856,
          3.484848484848485,
          3.383838383838384,
          3.282828282828283,
          3.1818181818181817,
          3.080808080808081,
          2.9797979797979797,
          2.878787878787879,
          2.7777777777777777,
          2.676767676767677,
          2.5757575757575757,
          2.474747474747475,
          2.3737373737373737,
          2.272727272727273,
          2.1717171717171717,
          2.070707070707071,
          1.9696969696969697,
          1.868686868686869,
          1.7676767676767677,
          1.6666666666666665,
          1.5656565656565657,
          1.4646464646464645,
          1.3636363636363638,
          1.2626262626262625,
          1.1616161616161618,
          1.0606060606060606,
          0.9595959595959593,
          0.858585858585859,
          0.7575757575757578,
          0.6565656565656566,
          0.5555555555555554,
          0.45454545454545503,
          0.3535353535353538,
          0.2525252525252526,
          0.15151515151515138,
          0.050505050505050164,
          -0.050505050505050164,
          -0.15151515151515138,
          -0.2525252525252526,
          -0.3535353535353538,
          -0.45454545454545414,
          -0.5555555555555554,
          -0.6565656565656566,
          -0.7575757575757578,
          -0.8585858585858581,
          -0.9595959595959593,
          -1.0606060606060606,
          -1.1616161616161618,
          -1.262626262626262,
          -1.3636363636363633,
          -1.4646464646464645,
          -1.5656565656565657,
          -1.666666666666667,
          -1.7676767676767673,
          -1.8686868686868685,
          -1.9696969696969697,
          -2.070707070707071,
          -2.1717171717171713,
          -2.2727272727272725,
          -2.3737373737373737,
          -2.474747474747475,
          -2.5757575757575752,
          -2.6767676767676765,
          -2.7777777777777777,
          -2.878787878787879,
          -2.9797979797979792,
          -3.0808080808080813,
          -3.1818181818181817,
          -3.282828282828282,
          -3.383838383838384,
          -3.4848484848484844,
          -3.5858585858585865,
          -3.686868686868687,
          -3.787878787878787,
          -3.8888888888888893,
          -3.9898989898989896,
          -4.09090909090909,
          -4.191919191919192,
          -4.292929292929292,
          -4.3939393939393945,
          -4.494949494949495,
          -4.595959595959595,
          -4.696969696969697,
          -4.797979797979798,
          -4.8989898989899,
          -5
         ],
         "z": [
          -4.993746088859544,
          -4.440052699849683,
          -3.885947104065518,
          -3.331480966792211,
          -2.7767058974454604,
          -2.2216734576201462,
          -1.6664351691078496,
          -1.111042521888471,
          -0.5555469821011991,
          0,
          0.5555469821011991,
          1.1110425218884699,
          1.666435169107849,
          2.2216734576201462,
          2.776705897445459,
          3.3314809667922103,
          3.8859471040655174,
          4.440052699849683,
          4.993746088859544,
          5.54697554185538,
          6.099689257516023,
          6.651835354264783,
          7.203361862042691,
          7.754216714023502,
          8.304347738264859,
          8.853702649289863,
          9.40222903959325,
          9.9498743710662,
          10.496585966333807,
          11.04231099999896,
          11.58699648978634,
          12.130589287580124,
          12.673036070348719,
          13.214283330949783,
          13.754277368808555,
          14.292964280462355,
          14.830289949963891,
          15.366200039135808,
          15.9006399776687,
          16.43355495305449,
          16.964889900346975,
          17.49458949174086,
          18.022598125960542,
          18.548859917449345,
          19.073318685349847,
          19.595917942265423,
          20.11660088279279,
          20.635310371815034,
          21.151988932544125,
          21.666578734301535,
          22.179021580025086,
          22.68925889348972,
          23.19723170622941,
          23.702880644146735,
          24.206145913796355,
          24.706967288327718,
          25.20528409307198,
          25.70103519075726,
          26.19415896633571,
          26.68459331140522,
          27.172275608207624,
          27.657142713184612,
          28.13913094007152,
          28.618176042508367,
          29.094213196146402,
          29.567176980227487,
          30.037001358612414,
          30.503619660233145,
          30.966964558942777,
          31.426968052735443,
          31.88356144230737,
          32.336675308928335,
          32.78623949159159,
          33.23218306340834,
          33.67443430721122,
          34.11292069032922,
          34.54756883849442,
          34.97830450883893,
          35.40505256193782,
          35.827736932851536,
          36.24628060111862,
          36.66060555964672,
          37.07063278244684,
          37.47628219115263,
          37.877472620262886,
          38.27412178104214,
          38.666146224009594,
          39.05346129994335,
          39.43598111932133,
          39.813618510116285,
          40.18628497385644,
          40.553890639858075,
          40.91634421753023,
          41.273552946644976,
          41.62542254546008,
          41.97185715657305,
          42.31275929037756,
          42.64802976598435,
          42.97756764945943,
          43.30127018922194,
          -4.993746088859544,
          -4.440052699849683,
          -3.885947104065518,
          -3.331480966792211,
          -2.7767058974454604,
          -2.2216734576201462,
          -1.6664351691078496,
          -1.111042521888471,
          -0.5555469821011991,
          0,
          0.5555469821011991,
          1.1110425218884699,
          1.666435169107849,
          2.2216734576201462,
          2.776705897445459,
          3.3314809667922103,
          3.8859471040655174,
          4.440052699849683,
          4.993746088859544,
          5.54697554185538,
          6.099689257516023,
          6.651835354264783,
          7.203361862042691,
          7.754216714023502,
          8.304347738264859,
          8.853702649289863,
          9.40222903959325,
          9.9498743710662,
          10.496585966333807,
          11.04231099999896,
          11.58699648978634,
          12.130589287580124,
          12.673036070348719,
          13.214283330949783,
          13.754277368808555,
          14.292964280462355,
          14.830289949963891,
          15.366200039135808,
          15.9006399776687,
          16.43355495305449,
          16.964889900346975,
          17.49458949174086,
          18.022598125960542,
          18.548859917449345,
          19.073318685349847,
          19.595917942265423,
          20.11660088279279,
          20.635310371815034,
          21.151988932544125,
          21.666578734301535,
          22.179021580025086,
          22.68925889348972,
          23.19723170622941,
          23.702880644146735,
          24.206145913796355,
          24.706967288327718,
          25.20528409307198,
          25.70103519075726,
          26.19415896633571,
          26.68459331140522,
          27.172275608207624,
          27.657142713184612,
          28.13913094007152,
          28.618176042508367,
          29.094213196146402,
          29.567176980227487,
          30.037001358612414,
          30.503619660233145,
          30.966964558942777,
          31.426968052735443,
          31.88356144230737,
          32.336675308928335,
          32.78623949159159,
          33.23218306340834,
          33.67443430721122,
          34.11292069032922,
          34.54756883849442,
          34.97830450883893,
          35.40505256193782,
          35.827736932851536,
          36.24628060111862,
          36.66060555964672,
          37.07063278244684,
          37.47628219115263,
          37.877472620262886,
          38.27412178104214,
          38.666146224009594,
          39.05346129994335,
          39.43598111932133,
          39.813618510116285,
          40.18628497385644,
          40.553890639858075,
          40.91634421753023,
          41.273552946644976,
          41.62542254546008,
          41.97185715657305,
          42.31275929037756,
          42.64802976598435,
          42.97756764945943,
          43.30127018922194,
          0,
          -4.898739969652749,
          -6.750315714378595,
          -8.05153726970908,
          -9.049671312902925,
          -9.843250798859367,
          -10.484216177518025,
          -11.004276001818274,
          -11.424662970597483,
          -11.760536752692317,
          -12.023245355820096,
          -12.221598687174895,
          -12.362637298288575,
          -12.45212228653133,
          -12.494861443290318,
          -12.494934344471183,
          -12.45585246000751,
          -12.380676009270896,
          -12.27210116108884,
          -12.132526375540186,
          -11.964103743972611,
          -11.768779325133554,
          -11.548325267820806,
          -11.304365706554885,
          -11.03839786976245,
          -10.751809460388959,
          -10.445893100777699,
          -10.121858441252803,
          -9.780842391726784,
          -9.42391783223796,
          -9.052101081053275,
          -8.666358340581837,
          -8.267611296758655,
          -7.856742013183861,
          -7.434597234564594,
          -7.00199219303699,
          -6.559713994375019,
          -6.10852464790738,
          -5.649163793405706,
          -5.18235116970522,
          -4.708788862939112,
          -4.229163366677327,
          -3.7441474817034197,
          -3.2544020794410544,
          -2.7605777499997393,
          -2.263316353327135,
          -1.763252489937754,
          -1.2610149060614508,
          -0.7572278467617368,
          -0.2525123695697275,
          0.2525123695697275,
          0.7572278467617368,
          1.2610149060614508,
          1.763252489937754,
          2.2633163533271308,
          2.7605777499997393,
          3.2544020794410544,
          3.7441474817034197,
          4.229163366677324,
          4.708788862939112,
          5.18235116970522,
          5.649163793405706,
          6.1085246479073785,
          6.559713994375017,
          7.00199219303699,
          7.434597234564594,
          7.8567420131838634,
          8.267611296758654,
          8.666358340581834,
          9.052101081053275,
          9.42391783223796,
          9.780842391726782,
          10.121858441252801,
          10.445893100777699,
          10.751809460388959,
          11.038397869762449,
          11.304365706554885,
          11.548325267820806,
          11.768779325133554,
          11.964103743972611,
          12.132526375540186,
          12.27210116108884,
          12.380676009270895,
          12.45585246000751,
          12.494934344471183,
          12.494861443290318,
          12.45212228653133,
          12.362637298288577,
          12.221598687174895,
          12.023245355820096,
          11.760536752692321,
          11.424662970597483,
          11.004276001818278,
          10.484216177518016,
          9.843250798859367,
          9.049671312902932,
          8.05153726970908,
          6.750315714378595,
          4.898739969652733,
          0,
          0,
          -4.898739969652749,
          -6.750315714378595,
          -8.05153726970908,
          -9.049671312902925,
          -9.843250798859367,
          -10.484216177518025,
          -11.004276001818274,
          -11.424662970597483,
          -11.760536752692317,
          -12.023245355820096,
          -12.221598687174895,
          -12.362637298288575,
          -12.45212228653133,
          -12.494861443290318,
          -12.494934344471183,
          -12.45585246000751,
          -12.380676009270896,
          -12.27210116108884,
          -12.132526375540186,
          -11.964103743972611,
          -11.768779325133554,
          -11.548325267820806,
          -11.304365706554885,
          -11.03839786976245,
          -10.751809460388959,
          -10.445893100777699,
          -10.121858441252803,
          -9.780842391726784,
          -9.42391783223796,
          -9.052101081053275,
          -8.666358340581837,
          -8.267611296758655,
          -7.856742013183861,
          -7.434597234564594,
          -7.00199219303699,
          -6.559713994375019,
          -6.10852464790738,
          -5.649163793405706,
          -5.18235116970522,
          -4.708788862939112,
          -4.229163366677327,
          -3.7441474817034197,
          -3.2544020794410544,
          -2.7605777499997393,
          -2.263316353327135,
          -1.763252489937754,
          -1.2610149060614508,
          -0.7572278467617368,
          -0.2525123695697275,
          0.2525123695697275,
          0.7572278467617368,
          1.2610149060614508,
          1.763252489937754,
          2.2633163533271308,
          2.7605777499997393,
          3.2544020794410544,
          3.7441474817034197,
          4.229163366677324,
          4.708788862939112,
          5.18235116970522,
          5.649163793405706,
          6.1085246479073785,
          6.559713994375017,
          7.00199219303699,
          7.434597234564594,
          7.8567420131838634,
          8.267611296758654,
          8.666358340581834,
          9.052101081053275,
          9.42391783223796,
          9.780842391726782,
          10.121858441252801,
          10.445893100777699,
          10.751809460388959,
          11.038397869762449,
          11.304365706554885,
          11.548325267820806,
          11.768779325133554,
          11.964103743972611,
          12.132526375540186,
          12.27210116108884,
          12.380676009270895,
          12.45585246000751,
          12.494934344471183,
          12.494861443290318,
          12.45212228653133,
          12.362637298288577,
          12.221598687174895,
          12.023245355820096,
          11.760536752692321,
          11.424662970597483,
          11.004276001818278,
          10.484216177518016,
          9.843250798859367,
          9.049671312902932,
          8.05153726970908,
          6.750315714378595,
          4.898739969652733,
          0
         ]
        }
       ],
       "layout": {
        "coloraxis": {
         "colorbar": {
          "title": {
           "text": "Y"
          }
         },
         "colorscale": [
          [
           0,
           "#0d0887"
          ],
          [
           0.1111111111111111,
           "#46039f"
          ],
          [
           0.2222222222222222,
           "#7201a8"
          ],
          [
           0.3333333333333333,
           "#9c179e"
          ],
          [
           0.4444444444444444,
           "#bd3786"
          ],
          [
           0.5555555555555556,
           "#d8576b"
          ],
          [
           0.6666666666666666,
           "#ed7953"
          ],
          [
           0.7777777777777778,
           "#fb9f3a"
          ],
          [
           0.8888888888888888,
           "#fdca26"
          ],
          [
           1,
           "#f0f921"
          ]
         ]
        },
        "legend": {
         "tracegroupgap": 0
        },
        "margin": {
         "t": 60
        },
        "scene": {
         "domain": {
          "x": [
           0,
           1
          ],
          "y": [
           0,
           1
          ]
         },
         "xaxis": {
          "title": {
           "text": "X1"
          }
         },
         "yaxis": {
          "title": {
           "text": "X2"
          }
         },
         "zaxis": {
          "title": {
           "text": "X1*X2"
          }
         }
        },
        "template": {
         "data": {
          "bar": [
           {
            "error_x": {
             "color": "#2a3f5f"
            },
            "error_y": {
             "color": "#2a3f5f"
            },
            "marker": {
             "line": {
              "color": "#E5ECF6",
              "width": 0.5
             },
             "pattern": {
              "fillmode": "overlay",
              "size": 10,
              "solidity": 0.2
             }
            },
            "type": "bar"
           }
          ],
          "barpolar": [
           {
            "marker": {
             "line": {
              "color": "#E5ECF6",
              "width": 0.5
             },
             "pattern": {
              "fillmode": "overlay",
              "size": 10,
              "solidity": 0.2
             }
            },
            "type": "barpolar"
           }
          ],
          "carpet": [
           {
            "aaxis": {
             "endlinecolor": "#2a3f5f",
             "gridcolor": "white",
             "linecolor": "white",
             "minorgridcolor": "white",
             "startlinecolor": "#2a3f5f"
            },
            "baxis": {
             "endlinecolor": "#2a3f5f",
             "gridcolor": "white",
             "linecolor": "white",
             "minorgridcolor": "white",
             "startlinecolor": "#2a3f5f"
            },
            "type": "carpet"
           }
          ],
          "choropleth": [
           {
            "colorbar": {
             "outlinewidth": 0,
             "ticks": ""
            },
            "type": "choropleth"
           }
          ],
          "contour": [
           {
            "colorbar": {
             "outlinewidth": 0,
             "ticks": ""
            },
            "colorscale": [
             [
              0,
              "#0d0887"
             ],
             [
              0.1111111111111111,
              "#46039f"
             ],
             [
              0.2222222222222222,
              "#7201a8"
             ],
             [
              0.3333333333333333,
              "#9c179e"
             ],
             [
              0.4444444444444444,
              "#bd3786"
             ],
             [
              0.5555555555555556,
              "#d8576b"
             ],
             [
              0.6666666666666666,
              "#ed7953"
             ],
             [
              0.7777777777777778,
              "#fb9f3a"
             ],
             [
              0.8888888888888888,
              "#fdca26"
             ],
             [
              1,
              "#f0f921"
             ]
            ],
            "type": "contour"
           }
          ],
          "contourcarpet": [
           {
            "colorbar": {
             "outlinewidth": 0,
             "ticks": ""
            },
            "type": "contourcarpet"
           }
          ],
          "heatmap": [
           {
            "colorbar": {
             "outlinewidth": 0,
             "ticks": ""
            },
            "colorscale": [
             [
              0,
              "#0d0887"
             ],
             [
              0.1111111111111111,
              "#46039f"
             ],
             [
              0.2222222222222222,
              "#7201a8"
             ],
             [
              0.3333333333333333,
              "#9c179e"
             ],
             [
              0.4444444444444444,
              "#bd3786"
             ],
             [
              0.5555555555555556,
              "#d8576b"
             ],
             [
              0.6666666666666666,
              "#ed7953"
             ],
             [
              0.7777777777777778,
              "#fb9f3a"
             ],
             [
              0.8888888888888888,
              "#fdca26"
             ],
             [
              1,
              "#f0f921"
             ]
            ],
            "type": "heatmap"
           }
          ],
          "heatmapgl": [
           {
            "colorbar": {
             "outlinewidth": 0,
             "ticks": ""
            },
            "colorscale": [
             [
              0,
              "#0d0887"
             ],
             [
              0.1111111111111111,
              "#46039f"
             ],
             [
              0.2222222222222222,
              "#7201a8"
             ],
             [
              0.3333333333333333,
              "#9c179e"
             ],
             [
              0.4444444444444444,
              "#bd3786"
             ],
             [
              0.5555555555555556,
              "#d8576b"
             ],
             [
              0.6666666666666666,
              "#ed7953"
             ],
             [
              0.7777777777777778,
              "#fb9f3a"
             ],
             [
              0.8888888888888888,
              "#fdca26"
             ],
             [
              1,
              "#f0f921"
             ]
            ],
            "type": "heatmapgl"
           }
          ],
          "histogram": [
           {
            "marker": {
             "pattern": {
              "fillmode": "overlay",
              "size": 10,
              "solidity": 0.2
             }
            },
            "type": "histogram"
           }
          ],
          "histogram2d": [
           {
            "colorbar": {
             "outlinewidth": 0,
             "ticks": ""
            },
            "colorscale": [
             [
              0,
              "#0d0887"
             ],
             [
              0.1111111111111111,
              "#46039f"
             ],
             [
              0.2222222222222222,
              "#7201a8"
             ],
             [
              0.3333333333333333,
              "#9c179e"
             ],
             [
              0.4444444444444444,
              "#bd3786"
             ],
             [
              0.5555555555555556,
              "#d8576b"
             ],
             [
              0.6666666666666666,
              "#ed7953"
             ],
             [
              0.7777777777777778,
              "#fb9f3a"
             ],
             [
              0.8888888888888888,
              "#fdca26"
             ],
             [
              1,
              "#f0f921"
             ]
            ],
            "type": "histogram2d"
           }
          ],
          "histogram2dcontour": [
           {
            "colorbar": {
             "outlinewidth": 0,
             "ticks": ""
            },
            "colorscale": [
             [
              0,
              "#0d0887"
             ],
             [
              0.1111111111111111,
              "#46039f"
             ],
             [
              0.2222222222222222,
              "#7201a8"
             ],
             [
              0.3333333333333333,
              "#9c179e"
             ],
             [
              0.4444444444444444,
              "#bd3786"
             ],
             [
              0.5555555555555556,
              "#d8576b"
             ],
             [
              0.6666666666666666,
              "#ed7953"
             ],
             [
              0.7777777777777778,
              "#fb9f3a"
             ],
             [
              0.8888888888888888,
              "#fdca26"
             ],
             [
              1,
              "#f0f921"
             ]
            ],
            "type": "histogram2dcontour"
           }
          ],
          "mesh3d": [
           {
            "colorbar": {
             "outlinewidth": 0,
             "ticks": ""
            },
            "type": "mesh3d"
           }
          ],
          "parcoords": [
           {
            "line": {
             "colorbar": {
              "outlinewidth": 0,
              "ticks": ""
             }
            },
            "type": "parcoords"
           }
          ],
          "pie": [
           {
            "automargin": true,
            "type": "pie"
           }
          ],
          "scatter": [
           {
            "fillpattern": {
             "fillmode": "overlay",
             "size": 10,
             "solidity": 0.2
            },
            "type": "scatter"
           }
          ],
          "scatter3d": [
           {
            "line": {
             "colorbar": {
              "outlinewidth": 0,
              "ticks": ""
             }
            },
            "marker": {
             "colorbar": {
              "outlinewidth": 0,
              "ticks": ""
             }
            },
            "type": "scatter3d"
           }
          ],
          "scattercarpet": [
           {
            "marker": {
             "colorbar": {
              "outlinewidth": 0,
              "ticks": ""
             }
            },
            "type": "scattercarpet"
           }
          ],
          "scattergeo": [
           {
            "marker": {
             "colorbar": {
              "outlinewidth": 0,
              "ticks": ""
             }
            },
            "type": "scattergeo"
           }
          ],
          "scattergl": [
           {
            "marker": {
             "colorbar": {
              "outlinewidth": 0,
              "ticks": ""
             }
            },
            "type": "scattergl"
           }
          ],
          "scattermapbox": [
           {
            "marker": {
             "colorbar": {
              "outlinewidth": 0,
              "ticks": ""
             }
            },
            "type": "scattermapbox"
           }
          ],
          "scatterpolar": [
           {
            "marker": {
             "colorbar": {
              "outlinewidth": 0,
              "ticks": ""
             }
            },
            "type": "scatterpolar"
           }
          ],
          "scatterpolargl": [
           {
            "marker": {
             "colorbar": {
              "outlinewidth": 0,
              "ticks": ""
             }
            },
            "type": "scatterpolargl"
           }
          ],
          "scatterternary": [
           {
            "marker": {
             "colorbar": {
              "outlinewidth": 0,
              "ticks": ""
             }
            },
            "type": "scatterternary"
           }
          ],
          "surface": [
           {
            "colorbar": {
             "outlinewidth": 0,
             "ticks": ""
            },
            "colorscale": [
             [
              0,
              "#0d0887"
             ],
             [
              0.1111111111111111,
              "#46039f"
             ],
             [
              0.2222222222222222,
              "#7201a8"
             ],
             [
              0.3333333333333333,
              "#9c179e"
             ],
             [
              0.4444444444444444,
              "#bd3786"
             ],
             [
              0.5555555555555556,
              "#d8576b"
             ],
             [
              0.6666666666666666,
              "#ed7953"
             ],
             [
              0.7777777777777778,
              "#fb9f3a"
             ],
             [
              0.8888888888888888,
              "#fdca26"
             ],
             [
              1,
              "#f0f921"
             ]
            ],
            "type": "surface"
           }
          ],
          "table": [
           {
            "cells": {
             "fill": {
              "color": "#EBF0F8"
             },
             "line": {
              "color": "white"
             }
            },
            "header": {
             "fill": {
              "color": "#C8D4E3"
             },
             "line": {
              "color": "white"
             }
            },
            "type": "table"
           }
          ]
         },
         "layout": {
          "annotationdefaults": {
           "arrowcolor": "#2a3f5f",
           "arrowhead": 0,
           "arrowwidth": 1
          },
          "autotypenumbers": "strict",
          "coloraxis": {
           "colorbar": {
            "outlinewidth": 0,
            "ticks": ""
           }
          },
          "colorscale": {
           "diverging": [
            [
             0,
             "#8e0152"
            ],
            [
             0.1,
             "#c51b7d"
            ],
            [
             0.2,
             "#de77ae"
            ],
            [
             0.3,
             "#f1b6da"
            ],
            [
             0.4,
             "#fde0ef"
            ],
            [
             0.5,
             "#f7f7f7"
            ],
            [
             0.6,
             "#e6f5d0"
            ],
            [
             0.7,
             "#b8e186"
            ],
            [
             0.8,
             "#7fbc41"
            ],
            [
             0.9,
             "#4d9221"
            ],
            [
             1,
             "#276419"
            ]
           ],
           "sequential": [
            [
             0,
             "#0d0887"
            ],
            [
             0.1111111111111111,
             "#46039f"
            ],
            [
             0.2222222222222222,
             "#7201a8"
            ],
            [
             0.3333333333333333,
             "#9c179e"
            ],
            [
             0.4444444444444444,
             "#bd3786"
            ],
            [
             0.5555555555555556,
             "#d8576b"
            ],
            [
             0.6666666666666666,
             "#ed7953"
            ],
            [
             0.7777777777777778,
             "#fb9f3a"
            ],
            [
             0.8888888888888888,
             "#fdca26"
            ],
            [
             1,
             "#f0f921"
            ]
           ],
           "sequentialminus": [
            [
             0,
             "#0d0887"
            ],
            [
             0.1111111111111111,
             "#46039f"
            ],
            [
             0.2222222222222222,
             "#7201a8"
            ],
            [
             0.3333333333333333,
             "#9c179e"
            ],
            [
             0.4444444444444444,
             "#bd3786"
            ],
            [
             0.5555555555555556,
             "#d8576b"
            ],
            [
             0.6666666666666666,
             "#ed7953"
            ],
            [
             0.7777777777777778,
             "#fb9f3a"
            ],
            [
             0.8888888888888888,
             "#fdca26"
            ],
            [
             1,
             "#f0f921"
            ]
           ]
          },
          "colorway": [
           "#636efa",
           "#EF553B",
           "#00cc96",
           "#ab63fa",
           "#FFA15A",
           "#19d3f3",
           "#FF6692",
           "#B6E880",
           "#FF97FF",
           "#FECB52"
          ],
          "font": {
           "color": "#2a3f5f"
          },
          "geo": {
           "bgcolor": "white",
           "lakecolor": "white",
           "landcolor": "#E5ECF6",
           "showlakes": true,
           "showland": true,
           "subunitcolor": "white"
          },
          "hoverlabel": {
           "align": "left"
          },
          "hovermode": "closest",
          "mapbox": {
           "style": "light"
          },
          "paper_bgcolor": "white",
          "plot_bgcolor": "#E5ECF6",
          "polar": {
           "angularaxis": {
            "gridcolor": "white",
            "linecolor": "white",
            "ticks": ""
           },
           "bgcolor": "#E5ECF6",
           "radialaxis": {
            "gridcolor": "white",
            "linecolor": "white",
            "ticks": ""
           }
          },
          "scene": {
           "xaxis": {
            "backgroundcolor": "#E5ECF6",
            "gridcolor": "white",
            "gridwidth": 2,
            "linecolor": "white",
            "showbackground": true,
            "ticks": "",
            "zerolinecolor": "white"
           },
           "yaxis": {
            "backgroundcolor": "#E5ECF6",
            "gridcolor": "white",
            "gridwidth": 2,
            "linecolor": "white",
            "showbackground": true,
            "ticks": "",
            "zerolinecolor": "white"
           },
           "zaxis": {
            "backgroundcolor": "#E5ECF6",
            "gridcolor": "white",
            "gridwidth": 2,
            "linecolor": "white",
            "showbackground": true,
            "ticks": "",
            "zerolinecolor": "white"
           }
          },
          "shapedefaults": {
           "line": {
            "color": "#2a3f5f"
           }
          },
          "ternary": {
           "aaxis": {
            "gridcolor": "white",
            "linecolor": "white",
            "ticks": ""
           },
           "baxis": {
            "gridcolor": "white",
            "linecolor": "white",
            "ticks": ""
           },
           "bgcolor": "#E5ECF6",
           "caxis": {
            "gridcolor": "white",
            "linecolor": "white",
            "ticks": ""
           }
          },
          "title": {
           "x": 0.05
          },
          "xaxis": {
           "automargin": true,
           "gridcolor": "white",
           "linecolor": "white",
           "ticks": "",
           "title": {
            "standoff": 15
           },
           "zerolinecolor": "white",
           "zerolinewidth": 2
          },
          "yaxis": {
           "automargin": true,
           "gridcolor": "white",
           "linecolor": "white",
           "ticks": "",
           "title": {
            "standoff": 15
           },
           "zerolinecolor": "white",
           "zerolinewidth": 2
          }
         }
        }
       }
      }
     },
     "metadata": {},
     "output_type": "display_data"
    }
   ],
   "source": [
    "import plotly.express as px\n",
    "fig = px.scatter_3d(df,x='X1', y='X2', z='X1*X2', color='Y')\n",
    "fig.show()"
   ]
  },
  {
   "cell_type": "code",
   "execution_count": 18,
   "metadata": {},
   "outputs": [
    {
     "data": {
      "application/vnd.plotly.v1+json": {
       "config": {
        "plotlyServerURL": "https://plot.ly"
       },
       "data": [
        {
         "hovertemplate": "X1_Square=%{x}<br>X2_Square=%{y}<br>X1*X2=%{z}<br>Y=%{marker.color}<extra></extra>",
         "legendgroup": "",
         "marker": {
          "color": [
           0,
           0,
           0,
           0,
           0,
           0,
           0,
           0,
           0,
           0,
           0,
           0,
           0,
           0,
           0,
           0,
           0,
           0,
           0,
           0,
           0,
           0,
           0,
           0,
           0,
           0,
           0,
           0,
           0,
           0,
           0,
           0,
           0,
           0,
           0,
           0,
           0,
           0,
           0,
           0,
           0,
           0,
           0,
           0,
           0,
           0,
           0,
           0,
           0,
           0,
           0,
           0,
           0,
           0,
           0,
           0,
           0,
           0,
           0,
           0,
           0,
           0,
           0,
           0,
           0,
           0,
           0,
           0,
           0,
           0,
           0,
           0,
           0,
           0,
           0,
           0,
           0,
           0,
           0,
           0,
           0,
           0,
           0,
           0,
           0,
           0,
           0,
           0,
           0,
           0,
           0,
           0,
           0,
           0,
           0,
           0,
           0,
           0,
           0,
           0,
           0,
           0,
           0,
           0,
           0,
           0,
           0,
           0,
           0,
           0,
           0,
           0,
           0,
           0,
           0,
           0,
           0,
           0,
           0,
           0,
           0,
           0,
           0,
           0,
           0,
           0,
           0,
           0,
           0,
           0,
           0,
           0,
           0,
           0,
           0,
           0,
           0,
           0,
           0,
           0,
           0,
           0,
           0,
           0,
           0,
           0,
           0,
           0,
           0,
           0,
           0,
           0,
           0,
           0,
           0,
           0,
           0,
           0,
           0,
           0,
           0,
           0,
           0,
           0,
           0,
           0,
           0,
           0,
           0,
           0,
           0,
           0,
           0,
           0,
           0,
           0,
           0,
           0,
           0,
           0,
           0,
           0,
           0,
           0,
           0,
           0,
           0,
           0,
           0,
           0,
           0,
           0,
           0,
           0,
           0,
           0,
           0,
           0,
           0,
           0,
           1,
           1,
           1,
           1,
           1,
           1,
           1,
           1,
           1,
           1,
           1,
           1,
           1,
           1,
           1,
           1,
           1,
           1,
           1,
           1,
           1,
           1,
           1,
           1,
           1,
           1,
           1,
           1,
           1,
           1,
           1,
           1,
           1,
           1,
           1,
           1,
           1,
           1,
           1,
           1,
           1,
           1,
           1,
           1,
           1,
           1,
           1,
           1,
           1,
           1,
           1,
           1,
           1,
           1,
           1,
           1,
           1,
           1,
           1,
           1,
           1,
           1,
           1,
           1,
           1,
           1,
           1,
           1,
           1,
           1,
           1,
           1,
           1,
           1,
           1,
           1,
           1,
           1,
           1,
           1,
           1,
           1,
           1,
           1,
           1,
           1,
           1,
           1,
           1,
           1,
           1,
           1,
           1,
           1,
           1,
           1,
           1,
           1,
           1,
           1,
           1,
           1,
           1,
           1,
           1,
           1,
           1,
           1,
           1,
           1,
           1,
           1,
           1,
           1,
           1,
           1,
           1,
           1,
           1,
           1,
           1,
           1,
           1,
           1,
           1,
           1,
           1,
           1,
           1,
           1,
           1,
           1,
           1,
           1,
           1,
           1,
           1,
           1,
           1,
           1,
           1,
           1,
           1,
           1,
           1,
           1,
           1,
           1,
           1,
           1,
           1,
           1,
           1,
           1,
           1,
           1,
           1,
           1,
           1,
           1,
           1,
           1,
           1,
           1,
           1,
           1,
           1,
           1,
           1,
           1,
           1,
           1,
           1,
           1,
           1,
           1,
           1,
           1,
           1,
           1,
           1,
           1,
           1,
           1,
           1,
           1,
           1,
           1,
           1,
           1,
           1,
           1,
           1,
           1,
           1,
           1,
           1,
           1,
           1,
           1
          ],
          "coloraxis": "coloraxis",
          "symbol": "circle"
         },
         "mode": "markers",
         "name": "",
         "scene": "scene",
         "showlegend": false,
         "type": "scatter3d",
         "x": [
          99.74999999999999,
          99.80246913580245,
          99.84876543209876,
          99.88888888888889,
          99.92283950617285,
          99.9506172839506,
          99.97222222222224,
          99.98765432098767,
          99.99691358024691,
          100,
          99.99691358024691,
          99.98765432098767,
          99.97222222222224,
          99.9506172839506,
          99.92283950617285,
          99.88888888888889,
          99.84876543209876,
          99.80246913580245,
          99.74999999999999,
          99.69135802469137,
          99.62654320987654,
          99.55555555555554,
          99.47839506172838,
          99.39506172839505,
          99.30555555555557,
          99.20987654320986,
          99.10802469135804,
          99,
          98.8858024691358,
          98.76543209876544,
          98.63888888888889,
          98.50617283950618,
          98.36728395061729,
          98.22222222222223,
          98.07098765432099,
          97.91358024691357,
          97.75000000000001,
          97.58024691358025,
          97.40432098765433,
          97.22222222222224,
          97.03395061728396,
          96.8395061728395,
          96.6388888888889,
          96.43209876543209,
          96.21913580246914,
          95.99999999999999,
          95.77469135802471,
          95.54320987654322,
          95.30555555555557,
          95.06172839506175,
          94.81172839506175,
          94.55555555555554,
          94.2932098765432,
          94.0246913580247,
          93.75,
          93.46913580246914,
          93.1820987654321,
          92.88888888888889,
          92.5895061728395,
          92.28395061728395,
          91.97222222222223,
          91.65432098765432,
          91.33024691358025,
          91,
          90.66358024691357,
          90.32098765432099,
          89.97222222222223,
          89.61728395061729,
          89.25617283950619,
          88.8888888888889,
          88.51543209876542,
          88.1358024691358,
          87.74999999999999,
          87.35802469135804,
          86.95987654320989,
          86.55555555555556,
          86.14506172839505,
          85.7283950617284,
          85.30555555555557,
          84.87654320987653,
          84.44135802469135,
          84,
          83.55246913580247,
          83.09876543209876,
          82.63888888888887,
          82.17283950617285,
          81.70061728395063,
          81.22222222222224,
          80.73765432098766,
          80.24691358024691,
          79.74999999999999,
          79.24691358024691,
          78.73765432098766,
          78.22222222222224,
          77.7006172839506,
          77.17283950617285,
          76.6388888888889,
          76.09876543209879,
          75.55246913580247,
          75.00000000000001,
          99.74999999999999,
          99.80246913580245,
          99.84876543209876,
          99.88888888888889,
          99.92283950617285,
          99.9506172839506,
          99.97222222222224,
          99.98765432098767,
          99.99691358024691,
          100,
          99.99691358024691,
          99.98765432098767,
          99.97222222222224,
          99.9506172839506,
          99.92283950617285,
          99.88888888888889,
          99.84876543209876,
          99.80246913580245,
          99.74999999999999,
          99.69135802469137,
          99.62654320987654,
          99.55555555555554,
          99.47839506172838,
          99.39506172839505,
          99.30555555555557,
          99.20987654320986,
          99.10802469135804,
          99,
          98.8858024691358,
          98.76543209876544,
          98.63888888888889,
          98.50617283950618,
          98.36728395061729,
          98.22222222222223,
          98.07098765432099,
          97.91358024691357,
          97.75000000000001,
          97.58024691358025,
          97.40432098765433,
          97.22222222222224,
          97.03395061728396,
          96.8395061728395,
          96.6388888888889,
          96.43209876543209,
          96.21913580246914,
          95.99999999999999,
          95.77469135802471,
          95.54320987654322,
          95.30555555555557,
          95.06172839506175,
          94.81172839506175,
          94.55555555555554,
          94.2932098765432,
          94.0246913580247,
          93.75,
          93.46913580246914,
          93.1820987654321,
          92.88888888888889,
          92.5895061728395,
          92.28395061728395,
          91.97222222222223,
          91.65432098765432,
          91.33024691358025,
          91,
          90.66358024691357,
          90.32098765432099,
          89.97222222222223,
          89.61728395061729,
          89.25617283950619,
          88.8888888888889,
          88.51543209876542,
          88.1358024691358,
          87.74999999999999,
          87.35802469135804,
          86.95987654320989,
          86.55555555555556,
          86.14506172839505,
          85.7283950617284,
          85.30555555555557,
          84.87654320987653,
          84.44135802469135,
          84,
          83.55246913580247,
          83.09876543209876,
          82.63888888888887,
          82.17283950617285,
          81.70061728395063,
          81.22222222222224,
          80.73765432098766,
          80.24691358024691,
          79.74999999999999,
          79.24691358024691,
          78.73765432098766,
          78.22222222222224,
          77.7006172839506,
          77.17283950617285,
          76.6388888888889,
          76.09876543209879,
          75.55246913580247,
          75.00000000000001,
          0,
          0.9998979695949402,
          1.97938985817774,
          2.9384756657483915,
          3.8771553923069066,
          4.795429037853282,
          5.693296602387515,
          6.570758085909598,
          7.427813488419548,
          8.264462809917353,
          9.080706050403023,
          9.876543209876544,
          10.651974288337922,
          11.406999285787165,
          12.141618202224265,
          12.85583103764922,
          13.549637792062033,
          14.22303846546271,
          14.876033057851238,
          15.50862156922763,
          16.120803999591878,
          16.712580348943987,
          17.28395061728395,
          17.834914804611774,
          18.365472910927455,
          18.875624936231,
          19.365370880522395,
          19.83471074380165,
          20.283644526068773,
          20.71217222732374,
          21.12029384756658,
          21.508009386797262,
          21.87531884501582,
          22.222222222222225,
          22.548719518416483,
          22.854810733598615,
          23.1404958677686,
          23.40577492092644,
          23.650647893072133,
          23.875114784205692,
          24.07917559432711,
          24.262830323436383,
          24.42607897153352,
          24.568921538618508,
          24.69135802469136,
          24.79338842975207,
          24.875012753800632,
          24.936230996837057,
          24.977043158861346,
          24.99744923987348,
          24.99744923987348,
          24.977043158861346,
          24.936230996837057,
          24.875012753800632,
          24.79338842975207,
          24.69135802469136,
          24.568921538618508,
          24.42607897153352,
          24.262830323436383,
          24.07917559432711,
          23.875114784205692,
          23.650647893072133,
          23.40577492092644,
          23.1404958677686,
          22.854810733598615,
          22.548719518416483,
          22.222222222222225,
          21.87531884501582,
          21.508009386797262,
          21.12029384756658,
          20.71217222732374,
          20.283644526068773,
          19.83471074380165,
          19.365370880522395,
          18.875624936231,
          18.365472910927455,
          17.83491480461178,
          17.28395061728395,
          16.712580348943987,
          16.120803999591885,
          15.508621569227627,
          14.876033057851238,
          14.223038465462713,
          13.549637792062033,
          12.855831037649223,
          12.141618202224258,
          11.406999285787165,
          10.65197428833793,
          9.87654320987654,
          9.080706050403023,
          8.264462809917362,
          7.427813488419548,
          6.570758085909605,
          5.6932966023875045,
          4.795429037853282,
          3.8771553923069146,
          2.9384756657483915,
          1.97938985817774,
          0.999897969594933,
          0,
          0,
          0.9998979695949402,
          1.97938985817774,
          2.9384756657483915,
          3.8771553923069066,
          4.795429037853282,
          5.693296602387515,
          6.570758085909598,
          7.427813488419548,
          8.264462809917353,
          9.080706050403023,
          9.876543209876544,
          10.651974288337922,
          11.406999285787165,
          12.141618202224265,
          12.85583103764922,
          13.549637792062033,
          14.22303846546271,
          14.876033057851238,
          15.50862156922763,
          16.120803999591878,
          16.712580348943987,
          17.28395061728395,
          17.834914804611774,
          18.365472910927455,
          18.875624936231,
          19.365370880522395,
          19.83471074380165,
          20.283644526068773,
          20.71217222732374,
          21.12029384756658,
          21.508009386797262,
          21.87531884501582,
          22.222222222222225,
          22.548719518416483,
          22.854810733598615,
          23.1404958677686,
          23.40577492092644,
          23.650647893072133,
          23.875114784205692,
          24.07917559432711,
          24.262830323436383,
          24.42607897153352,
          24.568921538618508,
          24.69135802469136,
          24.79338842975207,
          24.875012753800632,
          24.936230996837057,
          24.977043158861346,
          24.99744923987348,
          24.99744923987348,
          24.977043158861346,
          24.936230996837057,
          24.875012753800632,
          24.79338842975207,
          24.69135802469136,
          24.568921538618508,
          24.42607897153352,
          24.262830323436383,
          24.07917559432711,
          23.875114784205692,
          23.650647893072133,
          23.40577492092644,
          23.1404958677686,
          22.854810733598615,
          22.548719518416483,
          22.222222222222225,
          21.87531884501582,
          21.508009386797262,
          21.12029384756658,
          20.71217222732374,
          20.283644526068773,
          19.83471074380165,
          19.365370880522395,
          18.875624936231,
          18.365472910927455,
          17.83491480461178,
          17.28395061728395,
          16.712580348943987,
          16.120803999591885,
          15.508621569227627,
          14.876033057851238,
          14.223038465462713,
          13.549637792062033,
          12.855831037649223,
          12.141618202224258,
          11.406999285787165,
          10.65197428833793,
          9.87654320987654,
          9.080706050403023,
          8.264462809917362,
          7.427813488419548,
          6.570758085909605,
          5.6932966023875045,
          4.795429037853282,
          3.8771553923069146,
          2.9384756657483915,
          1.97938985817774,
          0.999897969594933,
          0
         ],
         "y": [
          0.25,
          0.19753086419753085,
          0.15123456790123457,
          0.11111111111111113,
          0.0771604938271605,
          0.04938271604938271,
          0.027777777777777783,
          0.01234567901234569,
          0.0030864197530864226,
          0,
          0.0030864197530864226,
          0.012345679012345664,
          0.027777777777777766,
          0.04938271604938271,
          0.07716049382716043,
          0.11111111111111106,
          0.15123456790123452,
          0.19753086419753085,
          0.25,
          0.308641975308642,
          0.37345679012345684,
          0.44444444444444425,
          0.5216049382716048,
          0.6049382716049381,
          0.6944444444444443,
          0.7901234567901234,
          0.8919753086419753,
          1,
          1.1141975308641971,
          1.2345679012345676,
          1.3611111111111107,
          1.493827160493827,
          1.6327160493827158,
          1.7777777777777777,
          1.9290123456790123,
          2.0864197530864197,
          2.25,
          2.4197530864197523,
          2.595679012345679,
          2.7777777777777772,
          2.96604938271605,
          3.1604938271604937,
          3.36111111111111,
          3.567901234567901,
          3.7808641975308634,
          4,
          4.225308641975308,
          4.45679012345679,
          4.694444444444444,
          4.93827160493827,
          5.188271604938271,
          5.444444444444443,
          5.7067901234567895,
          5.975308641975308,
          6.25,
          6.530864197530863,
          6.817901234567899,
          7.111111111111111,
          7.410493827160492,
          7.716049382716049,
          8.027777777777777,
          8.345679012345679,
          8.669753086419751,
          9,
          9.33641975308642,
          9.67901234567901,
          10.027777777777777,
          10.382716049382713,
          10.743827160493826,
          11.111111111111109,
          11.484567901234568,
          11.864197530864196,
          12.25,
          12.641975308641975,
          13.04012345679012,
          13.44444444444444,
          13.854938271604938,
          14.271604938271604,
          14.694444444444443,
          15.123456790123454,
          15.558641975308644,
          16,
          16.447530864197528,
          16.90123456790123,
          17.361111111111107,
          17.82716049382716,
          18.299382716049383,
          18.777777777777775,
          19.26234567901234,
          19.75308641975308,
          20.25,
          20.753086419753085,
          21.26234567901234,
          21.77777777777777,
          22.299382716049383,
          22.827160493827158,
          23.361111111111107,
          23.90123456790123,
          24.447530864197525,
          25,
          0.25,
          0.19753086419753085,
          0.15123456790123457,
          0.11111111111111113,
          0.0771604938271605,
          0.04938271604938271,
          0.027777777777777783,
          0.01234567901234569,
          0.0030864197530864226,
          0,
          0.0030864197530864226,
          0.012345679012345664,
          0.027777777777777766,
          0.04938271604938271,
          0.07716049382716043,
          0.11111111111111106,
          0.15123456790123452,
          0.19753086419753085,
          0.25,
          0.308641975308642,
          0.37345679012345684,
          0.44444444444444425,
          0.5216049382716048,
          0.6049382716049381,
          0.6944444444444443,
          0.7901234567901234,
          0.8919753086419753,
          1,
          1.1141975308641971,
          1.2345679012345676,
          1.3611111111111107,
          1.493827160493827,
          1.6327160493827158,
          1.7777777777777777,
          1.9290123456790123,
          2.0864197530864197,
          2.25,
          2.4197530864197523,
          2.595679012345679,
          2.7777777777777772,
          2.96604938271605,
          3.1604938271604937,
          3.36111111111111,
          3.567901234567901,
          3.7808641975308634,
          4,
          4.225308641975308,
          4.45679012345679,
          4.694444444444444,
          4.93827160493827,
          5.188271604938271,
          5.444444444444443,
          5.7067901234567895,
          5.975308641975308,
          6.25,
          6.530864197530863,
          6.817901234567899,
          7.111111111111111,
          7.410493827160492,
          7.716049382716049,
          8.027777777777777,
          8.345679012345679,
          8.669753086419751,
          9,
          9.33641975308642,
          9.67901234567901,
          10.027777777777777,
          10.382716049382713,
          10.743827160493826,
          11.111111111111109,
          11.484567901234568,
          11.864197530864196,
          12.25,
          12.641975308641975,
          13.04012345679012,
          13.44444444444444,
          13.854938271604938,
          14.271604938271604,
          14.694444444444443,
          15.123456790123454,
          15.558641975308644,
          16,
          16.447530864197528,
          16.90123456790123,
          17.361111111111107,
          17.82716049382716,
          18.299382716049383,
          18.777777777777775,
          19.26234567901234,
          19.75308641975308,
          20.25,
          20.753086419753085,
          21.26234567901234,
          21.77777777777777,
          22.299382716049383,
          22.827160493827158,
          23.361111111111107,
          23.90123456790123,
          24.447530864197525,
          25,
          25,
          24.00010203040506,
          23.02061014182226,
          22.061524334251608,
          21.122844607693093,
          20.204570962146718,
          19.306703397612484,
          18.4292419140904,
          17.57218651158045,
          16.735537190082646,
          15.919293949596977,
          15.123456790123456,
          14.348025711662077,
          13.593000714212835,
          12.858381797775735,
          12.144168962350781,
          11.450362207937967,
          10.776961534537293,
          10.12396694214876,
          9.49137843077237,
          8.87919600040812,
          8.287419651056016,
          7.716049382716049,
          7.165085195388227,
          6.634527089072543,
          6.124375063769004,
          5.634629119477604,
          5.165289256198348,
          4.716355473931231,
          4.287827772676258,
          3.879706152433425,
          3.491990613202735,
          3.1246811549841853,
          2.7777777777777772,
          2.4512804815835123,
          2.1451892664013874,
          1.8595041322314052,
          1.5942250790735637,
          1.349352106927865,
          1.1248852157943066,
          0.92082440567289,
          0.7371696765636166,
          0.5739210284664833,
          0.4310784613814917,
          0.30864197530864174,
          0.20661157024793433,
          0.1249872461993676,
          0.0637690031629426,
          0.02295684113865928,
          0.002550760126517668,
          0.002550760126517668,
          0.02295684113865928,
          0.0637690031629426,
          0.1249872461993676,
          0.20661157024793353,
          0.30864197530864174,
          0.4310784613814917,
          0.5739210284664833,
          0.7371696765636152,
          0.92082440567289,
          1.1248852157943066,
          1.349352106927865,
          1.5942250790735626,
          1.859504132231404,
          2.1451892664013874,
          2.4512804815835123,
          2.7777777777777786,
          3.124681154984184,
          3.491990613202734,
          3.879706152433425,
          4.287827772676258,
          4.7163554739312294,
          5.165289256198346,
          5.634629119477604,
          6.124375063769004,
          6.634527089072541,
          7.165085195388224,
          7.716049382716049,
          8.287419651056016,
          8.879196000408118,
          9.491378430772373,
          10.12396694214876,
          10.776961534537287,
          11.450362207937967,
          12.144168962350777,
          12.858381797775742,
          13.593000714212835,
          14.34802571166207,
          15.12345679012346,
          15.919293949596977,
          16.73553719008264,
          17.57218651158045,
          18.429241914090394,
          19.306703397612495,
          20.204570962146718,
          21.122844607693086,
          22.061524334251608,
          23.02061014182226,
          24.000102030405067,
          25,
          25,
          24.00010203040506,
          23.02061014182226,
          22.061524334251608,
          21.122844607693093,
          20.204570962146718,
          19.306703397612484,
          18.4292419140904,
          17.57218651158045,
          16.735537190082646,
          15.919293949596977,
          15.123456790123456,
          14.348025711662077,
          13.593000714212835,
          12.858381797775735,
          12.144168962350781,
          11.450362207937967,
          10.776961534537293,
          10.12396694214876,
          9.49137843077237,
          8.87919600040812,
          8.287419651056016,
          7.716049382716049,
          7.165085195388227,
          6.634527089072543,
          6.124375063769004,
          5.634629119477604,
          5.165289256198348,
          4.716355473931231,
          4.287827772676258,
          3.879706152433425,
          3.491990613202735,
          3.1246811549841853,
          2.7777777777777772,
          2.4512804815835123,
          2.1451892664013874,
          1.8595041322314052,
          1.5942250790735637,
          1.349352106927865,
          1.1248852157943066,
          0.92082440567289,
          0.7371696765636166,
          0.5739210284664833,
          0.4310784613814917,
          0.30864197530864174,
          0.20661157024793433,
          0.1249872461993676,
          0.0637690031629426,
          0.02295684113865928,
          0.002550760126517668,
          0.002550760126517668,
          0.02295684113865928,
          0.0637690031629426,
          0.1249872461993676,
          0.20661157024793353,
          0.30864197530864174,
          0.4310784613814917,
          0.5739210284664833,
          0.7371696765636152,
          0.92082440567289,
          1.1248852157943066,
          1.349352106927865,
          1.5942250790735626,
          1.859504132231404,
          2.1451892664013874,
          2.4512804815835123,
          2.7777777777777786,
          3.124681154984184,
          3.491990613202734,
          3.879706152433425,
          4.287827772676258,
          4.7163554739312294,
          5.165289256198346,
          5.634629119477604,
          6.124375063769004,
          6.634527089072541,
          7.165085195388224,
          7.716049382716049,
          8.287419651056016,
          8.879196000408118,
          9.491378430772373,
          10.12396694214876,
          10.776961534537287,
          11.450362207937967,
          12.144168962350777,
          12.858381797775742,
          13.593000714212835,
          14.34802571166207,
          15.12345679012346,
          15.919293949596977,
          16.73553719008264,
          17.57218651158045,
          18.429241914090394,
          19.306703397612495,
          20.204570962146718,
          21.122844607693086,
          22.061524334251608,
          23.02061014182226,
          24.000102030405067,
          25
         ],
         "z": [
          -4.993746088859544,
          -4.440052699849683,
          -3.885947104065518,
          -3.331480966792211,
          -2.7767058974454604,
          -2.2216734576201462,
          -1.6664351691078496,
          -1.111042521888471,
          -0.5555469821011991,
          0,
          0.5555469821011991,
          1.1110425218884699,
          1.666435169107849,
          2.2216734576201462,
          2.776705897445459,
          3.3314809667922103,
          3.8859471040655174,
          4.440052699849683,
          4.993746088859544,
          5.54697554185538,
          6.099689257516023,
          6.651835354264783,
          7.203361862042691,
          7.754216714023502,
          8.304347738264859,
          8.853702649289863,
          9.40222903959325,
          9.9498743710662,
          10.496585966333807,
          11.04231099999896,
          11.58699648978634,
          12.130589287580124,
          12.673036070348719,
          13.214283330949783,
          13.754277368808555,
          14.292964280462355,
          14.830289949963891,
          15.366200039135808,
          15.9006399776687,
          16.43355495305449,
          16.964889900346975,
          17.49458949174086,
          18.022598125960542,
          18.548859917449345,
          19.073318685349847,
          19.595917942265423,
          20.11660088279279,
          20.635310371815034,
          21.151988932544125,
          21.666578734301535,
          22.179021580025086,
          22.68925889348972,
          23.19723170622941,
          23.702880644146735,
          24.206145913796355,
          24.706967288327718,
          25.20528409307198,
          25.70103519075726,
          26.19415896633571,
          26.68459331140522,
          27.172275608207624,
          27.657142713184612,
          28.13913094007152,
          28.618176042508367,
          29.094213196146402,
          29.567176980227487,
          30.037001358612414,
          30.503619660233145,
          30.966964558942777,
          31.426968052735443,
          31.88356144230737,
          32.336675308928335,
          32.78623949159159,
          33.23218306340834,
          33.67443430721122,
          34.11292069032922,
          34.54756883849442,
          34.97830450883893,
          35.40505256193782,
          35.827736932851536,
          36.24628060111862,
          36.66060555964672,
          37.07063278244684,
          37.47628219115263,
          37.877472620262886,
          38.27412178104214,
          38.666146224009594,
          39.05346129994335,
          39.43598111932133,
          39.813618510116285,
          40.18628497385644,
          40.553890639858075,
          40.91634421753023,
          41.273552946644976,
          41.62542254546008,
          41.97185715657305,
          42.31275929037756,
          42.64802976598435,
          42.97756764945943,
          43.30127018922194,
          -4.993746088859544,
          -4.440052699849683,
          -3.885947104065518,
          -3.331480966792211,
          -2.7767058974454604,
          -2.2216734576201462,
          -1.6664351691078496,
          -1.111042521888471,
          -0.5555469821011991,
          0,
          0.5555469821011991,
          1.1110425218884699,
          1.666435169107849,
          2.2216734576201462,
          2.776705897445459,
          3.3314809667922103,
          3.8859471040655174,
          4.440052699849683,
          4.993746088859544,
          5.54697554185538,
          6.099689257516023,
          6.651835354264783,
          7.203361862042691,
          7.754216714023502,
          8.304347738264859,
          8.853702649289863,
          9.40222903959325,
          9.9498743710662,
          10.496585966333807,
          11.04231099999896,
          11.58699648978634,
          12.130589287580124,
          12.673036070348719,
          13.214283330949783,
          13.754277368808555,
          14.292964280462355,
          14.830289949963891,
          15.366200039135808,
          15.9006399776687,
          16.43355495305449,
          16.964889900346975,
          17.49458949174086,
          18.022598125960542,
          18.548859917449345,
          19.073318685349847,
          19.595917942265423,
          20.11660088279279,
          20.635310371815034,
          21.151988932544125,
          21.666578734301535,
          22.179021580025086,
          22.68925889348972,
          23.19723170622941,
          23.702880644146735,
          24.206145913796355,
          24.706967288327718,
          25.20528409307198,
          25.70103519075726,
          26.19415896633571,
          26.68459331140522,
          27.172275608207624,
          27.657142713184612,
          28.13913094007152,
          28.618176042508367,
          29.094213196146402,
          29.567176980227487,
          30.037001358612414,
          30.503619660233145,
          30.966964558942777,
          31.426968052735443,
          31.88356144230737,
          32.336675308928335,
          32.78623949159159,
          33.23218306340834,
          33.67443430721122,
          34.11292069032922,
          34.54756883849442,
          34.97830450883893,
          35.40505256193782,
          35.827736932851536,
          36.24628060111862,
          36.66060555964672,
          37.07063278244684,
          37.47628219115263,
          37.877472620262886,
          38.27412178104214,
          38.666146224009594,
          39.05346129994335,
          39.43598111932133,
          39.813618510116285,
          40.18628497385644,
          40.553890639858075,
          40.91634421753023,
          41.273552946644976,
          41.62542254546008,
          41.97185715657305,
          42.31275929037756,
          42.64802976598435,
          42.97756764945943,
          43.30127018922194,
          0,
          -4.898739969652749,
          -6.750315714378595,
          -8.05153726970908,
          -9.049671312902925,
          -9.843250798859367,
          -10.484216177518025,
          -11.004276001818274,
          -11.424662970597483,
          -11.760536752692317,
          -12.023245355820096,
          -12.221598687174895,
          -12.362637298288575,
          -12.45212228653133,
          -12.494861443290318,
          -12.494934344471183,
          -12.45585246000751,
          -12.380676009270896,
          -12.27210116108884,
          -12.132526375540186,
          -11.964103743972611,
          -11.768779325133554,
          -11.548325267820806,
          -11.304365706554885,
          -11.03839786976245,
          -10.751809460388959,
          -10.445893100777699,
          -10.121858441252803,
          -9.780842391726784,
          -9.42391783223796,
          -9.052101081053275,
          -8.666358340581837,
          -8.267611296758655,
          -7.856742013183861,
          -7.434597234564594,
          -7.00199219303699,
          -6.559713994375019,
          -6.10852464790738,
          -5.649163793405706,
          -5.18235116970522,
          -4.708788862939112,
          -4.229163366677327,
          -3.7441474817034197,
          -3.2544020794410544,
          -2.7605777499997393,
          -2.263316353327135,
          -1.763252489937754,
          -1.2610149060614508,
          -0.7572278467617368,
          -0.2525123695697275,
          0.2525123695697275,
          0.7572278467617368,
          1.2610149060614508,
          1.763252489937754,
          2.2633163533271308,
          2.7605777499997393,
          3.2544020794410544,
          3.7441474817034197,
          4.229163366677324,
          4.708788862939112,
          5.18235116970522,
          5.649163793405706,
          6.1085246479073785,
          6.559713994375017,
          7.00199219303699,
          7.434597234564594,
          7.8567420131838634,
          8.267611296758654,
          8.666358340581834,
          9.052101081053275,
          9.42391783223796,
          9.780842391726782,
          10.121858441252801,
          10.445893100777699,
          10.751809460388959,
          11.038397869762449,
          11.304365706554885,
          11.548325267820806,
          11.768779325133554,
          11.964103743972611,
          12.132526375540186,
          12.27210116108884,
          12.380676009270895,
          12.45585246000751,
          12.494934344471183,
          12.494861443290318,
          12.45212228653133,
          12.362637298288577,
          12.221598687174895,
          12.023245355820096,
          11.760536752692321,
          11.424662970597483,
          11.004276001818278,
          10.484216177518016,
          9.843250798859367,
          9.049671312902932,
          8.05153726970908,
          6.750315714378595,
          4.898739969652733,
          0,
          0,
          -4.898739969652749,
          -6.750315714378595,
          -8.05153726970908,
          -9.049671312902925,
          -9.843250798859367,
          -10.484216177518025,
          -11.004276001818274,
          -11.424662970597483,
          -11.760536752692317,
          -12.023245355820096,
          -12.221598687174895,
          -12.362637298288575,
          -12.45212228653133,
          -12.494861443290318,
          -12.494934344471183,
          -12.45585246000751,
          -12.380676009270896,
          -12.27210116108884,
          -12.132526375540186,
          -11.964103743972611,
          -11.768779325133554,
          -11.548325267820806,
          -11.304365706554885,
          -11.03839786976245,
          -10.751809460388959,
          -10.445893100777699,
          -10.121858441252803,
          -9.780842391726784,
          -9.42391783223796,
          -9.052101081053275,
          -8.666358340581837,
          -8.267611296758655,
          -7.856742013183861,
          -7.434597234564594,
          -7.00199219303699,
          -6.559713994375019,
          -6.10852464790738,
          -5.649163793405706,
          -5.18235116970522,
          -4.708788862939112,
          -4.229163366677327,
          -3.7441474817034197,
          -3.2544020794410544,
          -2.7605777499997393,
          -2.263316353327135,
          -1.763252489937754,
          -1.2610149060614508,
          -0.7572278467617368,
          -0.2525123695697275,
          0.2525123695697275,
          0.7572278467617368,
          1.2610149060614508,
          1.763252489937754,
          2.2633163533271308,
          2.7605777499997393,
          3.2544020794410544,
          3.7441474817034197,
          4.229163366677324,
          4.708788862939112,
          5.18235116970522,
          5.649163793405706,
          6.1085246479073785,
          6.559713994375017,
          7.00199219303699,
          7.434597234564594,
          7.8567420131838634,
          8.267611296758654,
          8.666358340581834,
          9.052101081053275,
          9.42391783223796,
          9.780842391726782,
          10.121858441252801,
          10.445893100777699,
          10.751809460388959,
          11.038397869762449,
          11.304365706554885,
          11.548325267820806,
          11.768779325133554,
          11.964103743972611,
          12.132526375540186,
          12.27210116108884,
          12.380676009270895,
          12.45585246000751,
          12.494934344471183,
          12.494861443290318,
          12.45212228653133,
          12.362637298288577,
          12.221598687174895,
          12.023245355820096,
          11.760536752692321,
          11.424662970597483,
          11.004276001818278,
          10.484216177518016,
          9.843250798859367,
          9.049671312902932,
          8.05153726970908,
          6.750315714378595,
          4.898739969652733,
          0
         ]
        }
       ],
       "layout": {
        "coloraxis": {
         "colorbar": {
          "title": {
           "text": "Y"
          }
         },
         "colorscale": [
          [
           0,
           "#0d0887"
          ],
          [
           0.1111111111111111,
           "#46039f"
          ],
          [
           0.2222222222222222,
           "#7201a8"
          ],
          [
           0.3333333333333333,
           "#9c179e"
          ],
          [
           0.4444444444444444,
           "#bd3786"
          ],
          [
           0.5555555555555556,
           "#d8576b"
          ],
          [
           0.6666666666666666,
           "#ed7953"
          ],
          [
           0.7777777777777778,
           "#fb9f3a"
          ],
          [
           0.8888888888888888,
           "#fdca26"
          ],
          [
           1,
           "#f0f921"
          ]
         ]
        },
        "legend": {
         "tracegroupgap": 0
        },
        "margin": {
         "t": 60
        },
        "scene": {
         "domain": {
          "x": [
           0,
           1
          ],
          "y": [
           0,
           1
          ]
         },
         "xaxis": {
          "title": {
           "text": "X1_Square"
          }
         },
         "yaxis": {
          "title": {
           "text": "X2_Square"
          }
         },
         "zaxis": {
          "title": {
           "text": "X1*X2"
          }
         }
        },
        "template": {
         "data": {
          "bar": [
           {
            "error_x": {
             "color": "#2a3f5f"
            },
            "error_y": {
             "color": "#2a3f5f"
            },
            "marker": {
             "line": {
              "color": "#E5ECF6",
              "width": 0.5
             },
             "pattern": {
              "fillmode": "overlay",
              "size": 10,
              "solidity": 0.2
             }
            },
            "type": "bar"
           }
          ],
          "barpolar": [
           {
            "marker": {
             "line": {
              "color": "#E5ECF6",
              "width": 0.5
             },
             "pattern": {
              "fillmode": "overlay",
              "size": 10,
              "solidity": 0.2
             }
            },
            "type": "barpolar"
           }
          ],
          "carpet": [
           {
            "aaxis": {
             "endlinecolor": "#2a3f5f",
             "gridcolor": "white",
             "linecolor": "white",
             "minorgridcolor": "white",
             "startlinecolor": "#2a3f5f"
            },
            "baxis": {
             "endlinecolor": "#2a3f5f",
             "gridcolor": "white",
             "linecolor": "white",
             "minorgridcolor": "white",
             "startlinecolor": "#2a3f5f"
            },
            "type": "carpet"
           }
          ],
          "choropleth": [
           {
            "colorbar": {
             "outlinewidth": 0,
             "ticks": ""
            },
            "type": "choropleth"
           }
          ],
          "contour": [
           {
            "colorbar": {
             "outlinewidth": 0,
             "ticks": ""
            },
            "colorscale": [
             [
              0,
              "#0d0887"
             ],
             [
              0.1111111111111111,
              "#46039f"
             ],
             [
              0.2222222222222222,
              "#7201a8"
             ],
             [
              0.3333333333333333,
              "#9c179e"
             ],
             [
              0.4444444444444444,
              "#bd3786"
             ],
             [
              0.5555555555555556,
              "#d8576b"
             ],
             [
              0.6666666666666666,
              "#ed7953"
             ],
             [
              0.7777777777777778,
              "#fb9f3a"
             ],
             [
              0.8888888888888888,
              "#fdca26"
             ],
             [
              1,
              "#f0f921"
             ]
            ],
            "type": "contour"
           }
          ],
          "contourcarpet": [
           {
            "colorbar": {
             "outlinewidth": 0,
             "ticks": ""
            },
            "type": "contourcarpet"
           }
          ],
          "heatmap": [
           {
            "colorbar": {
             "outlinewidth": 0,
             "ticks": ""
            },
            "colorscale": [
             [
              0,
              "#0d0887"
             ],
             [
              0.1111111111111111,
              "#46039f"
             ],
             [
              0.2222222222222222,
              "#7201a8"
             ],
             [
              0.3333333333333333,
              "#9c179e"
             ],
             [
              0.4444444444444444,
              "#bd3786"
             ],
             [
              0.5555555555555556,
              "#d8576b"
             ],
             [
              0.6666666666666666,
              "#ed7953"
             ],
             [
              0.7777777777777778,
              "#fb9f3a"
             ],
             [
              0.8888888888888888,
              "#fdca26"
             ],
             [
              1,
              "#f0f921"
             ]
            ],
            "type": "heatmap"
           }
          ],
          "heatmapgl": [
           {
            "colorbar": {
             "outlinewidth": 0,
             "ticks": ""
            },
            "colorscale": [
             [
              0,
              "#0d0887"
             ],
             [
              0.1111111111111111,
              "#46039f"
             ],
             [
              0.2222222222222222,
              "#7201a8"
             ],
             [
              0.3333333333333333,
              "#9c179e"
             ],
             [
              0.4444444444444444,
              "#bd3786"
             ],
             [
              0.5555555555555556,
              "#d8576b"
             ],
             [
              0.6666666666666666,
              "#ed7953"
             ],
             [
              0.7777777777777778,
              "#fb9f3a"
             ],
             [
              0.8888888888888888,
              "#fdca26"
             ],
             [
              1,
              "#f0f921"
             ]
            ],
            "type": "heatmapgl"
           }
          ],
          "histogram": [
           {
            "marker": {
             "pattern": {
              "fillmode": "overlay",
              "size": 10,
              "solidity": 0.2
             }
            },
            "type": "histogram"
           }
          ],
          "histogram2d": [
           {
            "colorbar": {
             "outlinewidth": 0,
             "ticks": ""
            },
            "colorscale": [
             [
              0,
              "#0d0887"
             ],
             [
              0.1111111111111111,
              "#46039f"
             ],
             [
              0.2222222222222222,
              "#7201a8"
             ],
             [
              0.3333333333333333,
              "#9c179e"
             ],
             [
              0.4444444444444444,
              "#bd3786"
             ],
             [
              0.5555555555555556,
              "#d8576b"
             ],
             [
              0.6666666666666666,
              "#ed7953"
             ],
             [
              0.7777777777777778,
              "#fb9f3a"
             ],
             [
              0.8888888888888888,
              "#fdca26"
             ],
             [
              1,
              "#f0f921"
             ]
            ],
            "type": "histogram2d"
           }
          ],
          "histogram2dcontour": [
           {
            "colorbar": {
             "outlinewidth": 0,
             "ticks": ""
            },
            "colorscale": [
             [
              0,
              "#0d0887"
             ],
             [
              0.1111111111111111,
              "#46039f"
             ],
             [
              0.2222222222222222,
              "#7201a8"
             ],
             [
              0.3333333333333333,
              "#9c179e"
             ],
             [
              0.4444444444444444,
              "#bd3786"
             ],
             [
              0.5555555555555556,
              "#d8576b"
             ],
             [
              0.6666666666666666,
              "#ed7953"
             ],
             [
              0.7777777777777778,
              "#fb9f3a"
             ],
             [
              0.8888888888888888,
              "#fdca26"
             ],
             [
              1,
              "#f0f921"
             ]
            ],
            "type": "histogram2dcontour"
           }
          ],
          "mesh3d": [
           {
            "colorbar": {
             "outlinewidth": 0,
             "ticks": ""
            },
            "type": "mesh3d"
           }
          ],
          "parcoords": [
           {
            "line": {
             "colorbar": {
              "outlinewidth": 0,
              "ticks": ""
             }
            },
            "type": "parcoords"
           }
          ],
          "pie": [
           {
            "automargin": true,
            "type": "pie"
           }
          ],
          "scatter": [
           {
            "fillpattern": {
             "fillmode": "overlay",
             "size": 10,
             "solidity": 0.2
            },
            "type": "scatter"
           }
          ],
          "scatter3d": [
           {
            "line": {
             "colorbar": {
              "outlinewidth": 0,
              "ticks": ""
             }
            },
            "marker": {
             "colorbar": {
              "outlinewidth": 0,
              "ticks": ""
             }
            },
            "type": "scatter3d"
           }
          ],
          "scattercarpet": [
           {
            "marker": {
             "colorbar": {
              "outlinewidth": 0,
              "ticks": ""
             }
            },
            "type": "scattercarpet"
           }
          ],
          "scattergeo": [
           {
            "marker": {
             "colorbar": {
              "outlinewidth": 0,
              "ticks": ""
             }
            },
            "type": "scattergeo"
           }
          ],
          "scattergl": [
           {
            "marker": {
             "colorbar": {
              "outlinewidth": 0,
              "ticks": ""
             }
            },
            "type": "scattergl"
           }
          ],
          "scattermapbox": [
           {
            "marker": {
             "colorbar": {
              "outlinewidth": 0,
              "ticks": ""
             }
            },
            "type": "scattermapbox"
           }
          ],
          "scatterpolar": [
           {
            "marker": {
             "colorbar": {
              "outlinewidth": 0,
              "ticks": ""
             }
            },
            "type": "scatterpolar"
           }
          ],
          "scatterpolargl": [
           {
            "marker": {
             "colorbar": {
              "outlinewidth": 0,
              "ticks": ""
             }
            },
            "type": "scatterpolargl"
           }
          ],
          "scatterternary": [
           {
            "marker": {
             "colorbar": {
              "outlinewidth": 0,
              "ticks": ""
             }
            },
            "type": "scatterternary"
           }
          ],
          "surface": [
           {
            "colorbar": {
             "outlinewidth": 0,
             "ticks": ""
            },
            "colorscale": [
             [
              0,
              "#0d0887"
             ],
             [
              0.1111111111111111,
              "#46039f"
             ],
             [
              0.2222222222222222,
              "#7201a8"
             ],
             [
              0.3333333333333333,
              "#9c179e"
             ],
             [
              0.4444444444444444,
              "#bd3786"
             ],
             [
              0.5555555555555556,
              "#d8576b"
             ],
             [
              0.6666666666666666,
              "#ed7953"
             ],
             [
              0.7777777777777778,
              "#fb9f3a"
             ],
             [
              0.8888888888888888,
              "#fdca26"
             ],
             [
              1,
              "#f0f921"
             ]
            ],
            "type": "surface"
           }
          ],
          "table": [
           {
            "cells": {
             "fill": {
              "color": "#EBF0F8"
             },
             "line": {
              "color": "white"
             }
            },
            "header": {
             "fill": {
              "color": "#C8D4E3"
             },
             "line": {
              "color": "white"
             }
            },
            "type": "table"
           }
          ]
         },
         "layout": {
          "annotationdefaults": {
           "arrowcolor": "#2a3f5f",
           "arrowhead": 0,
           "arrowwidth": 1
          },
          "autotypenumbers": "strict",
          "coloraxis": {
           "colorbar": {
            "outlinewidth": 0,
            "ticks": ""
           }
          },
          "colorscale": {
           "diverging": [
            [
             0,
             "#8e0152"
            ],
            [
             0.1,
             "#c51b7d"
            ],
            [
             0.2,
             "#de77ae"
            ],
            [
             0.3,
             "#f1b6da"
            ],
            [
             0.4,
             "#fde0ef"
            ],
            [
             0.5,
             "#f7f7f7"
            ],
            [
             0.6,
             "#e6f5d0"
            ],
            [
             0.7,
             "#b8e186"
            ],
            [
             0.8,
             "#7fbc41"
            ],
            [
             0.9,
             "#4d9221"
            ],
            [
             1,
             "#276419"
            ]
           ],
           "sequential": [
            [
             0,
             "#0d0887"
            ],
            [
             0.1111111111111111,
             "#46039f"
            ],
            [
             0.2222222222222222,
             "#7201a8"
            ],
            [
             0.3333333333333333,
             "#9c179e"
            ],
            [
             0.4444444444444444,
             "#bd3786"
            ],
            [
             0.5555555555555556,
             "#d8576b"
            ],
            [
             0.6666666666666666,
             "#ed7953"
            ],
            [
             0.7777777777777778,
             "#fb9f3a"
            ],
            [
             0.8888888888888888,
             "#fdca26"
            ],
            [
             1,
             "#f0f921"
            ]
           ],
           "sequentialminus": [
            [
             0,
             "#0d0887"
            ],
            [
             0.1111111111111111,
             "#46039f"
            ],
            [
             0.2222222222222222,
             "#7201a8"
            ],
            [
             0.3333333333333333,
             "#9c179e"
            ],
            [
             0.4444444444444444,
             "#bd3786"
            ],
            [
             0.5555555555555556,
             "#d8576b"
            ],
            [
             0.6666666666666666,
             "#ed7953"
            ],
            [
             0.7777777777777778,
             "#fb9f3a"
            ],
            [
             0.8888888888888888,
             "#fdca26"
            ],
            [
             1,
             "#f0f921"
            ]
           ]
          },
          "colorway": [
           "#636efa",
           "#EF553B",
           "#00cc96",
           "#ab63fa",
           "#FFA15A",
           "#19d3f3",
           "#FF6692",
           "#B6E880",
           "#FF97FF",
           "#FECB52"
          ],
          "font": {
           "color": "#2a3f5f"
          },
          "geo": {
           "bgcolor": "white",
           "lakecolor": "white",
           "landcolor": "#E5ECF6",
           "showlakes": true,
           "showland": true,
           "subunitcolor": "white"
          },
          "hoverlabel": {
           "align": "left"
          },
          "hovermode": "closest",
          "mapbox": {
           "style": "light"
          },
          "paper_bgcolor": "white",
          "plot_bgcolor": "#E5ECF6",
          "polar": {
           "angularaxis": {
            "gridcolor": "white",
            "linecolor": "white",
            "ticks": ""
           },
           "bgcolor": "#E5ECF6",
           "radialaxis": {
            "gridcolor": "white",
            "linecolor": "white",
            "ticks": ""
           }
          },
          "scene": {
           "xaxis": {
            "backgroundcolor": "#E5ECF6",
            "gridcolor": "white",
            "gridwidth": 2,
            "linecolor": "white",
            "showbackground": true,
            "ticks": "",
            "zerolinecolor": "white"
           },
           "yaxis": {
            "backgroundcolor": "#E5ECF6",
            "gridcolor": "white",
            "gridwidth": 2,
            "linecolor": "white",
            "showbackground": true,
            "ticks": "",
            "zerolinecolor": "white"
           },
           "zaxis": {
            "backgroundcolor": "#E5ECF6",
            "gridcolor": "white",
            "gridwidth": 2,
            "linecolor": "white",
            "showbackground": true,
            "ticks": "",
            "zerolinecolor": "white"
           }
          },
          "shapedefaults": {
           "line": {
            "color": "#2a3f5f"
           }
          },
          "ternary": {
           "aaxis": {
            "gridcolor": "white",
            "linecolor": "white",
            "ticks": ""
           },
           "baxis": {
            "gridcolor": "white",
            "linecolor": "white",
            "ticks": ""
           },
           "bgcolor": "#E5ECF6",
           "caxis": {
            "gridcolor": "white",
            "linecolor": "white",
            "ticks": ""
           }
          },
          "title": {
           "x": 0.05
          },
          "xaxis": {
           "automargin": true,
           "gridcolor": "white",
           "linecolor": "white",
           "ticks": "",
           "title": {
            "standoff": 15
           },
           "zerolinecolor": "white",
           "zerolinewidth": 2
          },
          "yaxis": {
           "automargin": true,
           "gridcolor": "white",
           "linecolor": "white",
           "ticks": "",
           "title": {
            "standoff": 15
           },
           "zerolinecolor": "white",
           "zerolinewidth": 2
          }
         }
        }
       }
      }
     },
     "metadata": {},
     "output_type": "display_data"
    }
   ],
   "source": [
    "fig = px.scatter_3d(df,x='X1_Square',y='X2_Square', z='X1*X2', color='Y')\n",
    "fig.show()"
   ]
  },
  {
   "cell_type": "code",
   "execution_count": 20,
   "metadata": {},
   "outputs": [
    {
     "data": {
      "text/plain": [
       "1.0"
      ]
     },
     "execution_count": 20,
     "metadata": {},
     "output_type": "execute_result"
    }
   ],
   "source": [
    "from sklearn.svm import SVC\n",
    "from sklearn.metrics import accuracy_score\n",
    "classifier = SVC(kernel=\"linear\")\n",
    "classifier.fit(xtrain,ytrain)\n",
    "y_pred = classifier.predict(xtest)\n",
    "accuracy_score(ytest,y_pred)"
   ]
  },
  {
   "cell_type": "code",
   "execution_count": 21,
   "metadata": {},
   "outputs": [
    {
     "data": {
      "text/plain": [
       "1.0"
      ]
     },
     "execution_count": 21,
     "metadata": {},
     "output_type": "execute_result"
    }
   ],
   "source": [
    "from sklearn.svm import SVC\n",
    "from sklearn.metrics import accuracy_score\n",
    "classifier = SVC(kernel=\"poly\")\n",
    "classifier.fit(xtrain,ytrain)\n",
    "y_pred = classifier.predict(xtest)\n",
    "accuracy_score(ytest,y_pred)"
   ]
  },
  {
   "cell_type": "code",
   "execution_count": 22,
   "metadata": {},
   "outputs": [
    {
     "data": {
      "text/plain": [
       "1.0"
      ]
     },
     "execution_count": 22,
     "metadata": {},
     "output_type": "execute_result"
    }
   ],
   "source": [
    "from sklearn.svm import SVC\n",
    "from sklearn.metrics import accuracy_score\n",
    "classifier = SVC(kernel=\"rbf\")\n",
    "classifier.fit(xtrain,ytrain)\n",
    "y_pred = classifier.predict(xtest)\n",
    "accuracy_score(ytest,y_pred)"
   ]
  },
  {
   "cell_type": "code",
   "execution_count": 23,
   "metadata": {},
   "outputs": [
    {
     "data": {
      "text/plain": [
       "1.0"
      ]
     },
     "execution_count": 23,
     "metadata": {},
     "output_type": "execute_result"
    }
   ],
   "source": [
    "from sklearn.svm import SVC\n",
    "from sklearn.metrics import accuracy_score\n",
    "classifier = SVC(kernel=\"sigmoid\")\n",
    "classifier.fit(xtrain,ytrain)\n",
    "y_pred = classifier.predict(xtest)\n",
    "accuracy_score(ytest,y_pred)"
   ]
  },
  {
   "cell_type": "code",
   "execution_count": null,
   "metadata": {},
   "outputs": [],
   "source": []
  }
 ],
 "metadata": {
  "kernelspec": {
   "display_name": "Python 3",
   "language": "python",
   "name": "python3"
  },
  "language_info": {
   "codemirror_mode": {
    "name": "ipython",
    "version": 3
   },
   "file_extension": ".py",
   "mimetype": "text/x-python",
   "name": "python",
   "nbconvert_exporter": "python",
   "pygments_lexer": "ipython3",
   "version": "3.12.3"
  }
 },
 "nbformat": 4,
 "nbformat_minor": 2
}
